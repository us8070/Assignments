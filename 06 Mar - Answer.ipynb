{
 "cells": [
  {
   "attachments": {},
   "cell_type": "markdown",
   "metadata": {},
   "source": [
    "### Q1. What is Statistics? \n"
   ]
  },
  {
   "attachments": {},
   "cell_type": "markdown",
   "metadata": {},
   "source": [
    "▶️ Statistics is used to deal with raw data and interpret information from it. Some common statistics methods like **mean, median, mode, standard deviation and variance.** Using these mathematical methods researchers try to solve problems and derive some analytics from the data."
   ]
  },
  {
   "cell_type": "markdown",
   "metadata": {},
   "source": [
    "### Q2. Define the different types of statistics and give an example of when each type might be used. \n"
   ]
  },
  {
   "attachments": {},
   "cell_type": "markdown",
   "metadata": {},
   "source": [
    "▶️ **Descriptive Statistics:** It involves summarizing and describing data through measures such as mean, median, mode, range, standard deviation, and variance. These statistics help us understand the characteristics of the data, such as its central tendency, variability, and distribution.\n",
    "\n",
    "**Example:**  \n",
    "Age of Students in a classroom = `[14, 14, 13, 15, 15, 16, 16, 13, 14, 17]`\n",
    "\n",
    "Avg. age of students = `147`  \n",
    "Median age of students = `14`  \n",
    "Mode age of students = `14`\n",
    "\n",
    "---\n",
    "\n",
    "▶️ Inferential statistics: It involves making predictions or drawing conclusions about a population based on a sample of data. This type of statistics uses **probability theory** to estimate the likelihood that a particular conclusion is true.\n",
    "\n",
    "**Example:** A drug test on a sample of population of different age groups in this method inferential statistics works."
   ]
  },
  {
   "attachments": {},
   "cell_type": "markdown",
   "metadata": {},
   "source": [
    "Summarizing in table below:\n",
    "\n",
    "| Type of Statistics | Definition | Example |\n",
    "| --- | --- | --- |\n",
    "| Descriptive statistics | Summarizing and describing data through measures such as mean, median, mode, range, standard deviation, and variance. | A researcher studying the distribution of ages in a population uses descriptive statistics to calculate the mean, median, and standard deviation of a sample of ages. |\n",
    "| Inferential statistics | Making predictions or drawing conclusions about a population based on a sample of data, using probability theory to estimate the likelihood that a particular conclusion is true. | A pharmaceutical company tests the effectiveness of a new drug using inferential statistics to determine whether the drug has a significant effect compared to a placebo. |\n"
   ]
  },
  {
   "cell_type": "markdown",
   "metadata": {},
   "source": [
    "### Q3.  What are the different types of data and how do they differ from each other? Provide an example of each type of data.\n"
   ]
  },
  {
   "attachments": {},
   "cell_type": "markdown",
   "metadata": {},
   "source": [
    "1. **Quantitative Data:** It consist of numerical measurements.\n",
    "\n",
    "- Nominal Data\n",
    "- Ordinal Data\n",
    "\n",
    "2. **Qualitative Data:** It consist of descriptive or categorical information.\n",
    "\n",
    "- Discrete Data\n",
    "- Continuous Data\n"
   ]
  },
  {
   "attachments": {},
   "cell_type": "markdown",
   "metadata": {},
   "source": [
    "| Type of Data | Definition | Examples |\n",
    "| --- | --- | --- |\n",
    "| Qualitative/Nominal | Descriptive or categorical information that cannot be ranked or ordered. | Gender, Car Manufacturer, Cuisine  |\n",
    "| Qualitative/Ordinal | Descriptive or categorical information that can be ranked or ordered, but the intervals between categories are not necessarily equal. | Education level, socioeconomic status,Clothing Sizes(S,M,L,XL). |\n",
    "| Quantitative/Discrete | Numerical values that can only take on specific values, typically integers. | Number of children in a family, number of cars in a household. |\n",
    "| Quantitative/Continuous | Numerical values that can take on any value within a range. | Length, Temperature, Humidity, Time |"
   ]
  },
  {
   "attachments": {},
   "cell_type": "markdown",
   "metadata": {},
   "source": [
    "![Types of Data](https://d1m75rqqgidzqn.cloudfront.net/wp-data/2022/06/01113127/types-of-data-.png)"
   ]
  },
  {
   "attachments": {},
   "cell_type": "markdown",
   "metadata": {},
   "source": [
    "### Q4. Categorise the following datasets with respect to quantitative and qualitative data types: \n",
    "\n",
    "1. **Grading in exam:** A+, A, B+, B, C+, C, D, E \n",
    "2. **Color of mangoes:** yellow, green, orange, red \n",
    "3. **Height data of a class:** [178.9, 179, 179.5, 176, 177.2, 178.3, 175.8,...] \n",
    "4. **Number of mangoes exported by a farm:** [500, 600, 478, 672, ...]"
   ]
  },
  {
   "attachments": {},
   "cell_type": "markdown",
   "metadata": {},
   "source": [
    "##### 1. **Grading in exam:** A+, A, B+, B, C+, C, D, E.\n",
    "> This is a **Qualitative Ordinal Variable** where `A+` is highest and `E` is lowest rank.\n",
    "\n",
    "##### 2. **Color of mangoes:** yellow, green, orange, red.\n",
    "> This is a **Qualitative Nominal Variable** because colors cannot have a rank.\n",
    "\n",
    "##### 3. **Height data of a class:** [178.9, 179, 179.5, 176, 177.2, 178.3, 175.8,...].\n",
    "> This is a **Quantitative Continuous Variable** because measurements are decimal values.\n",
    "\n",
    "##### 4. **Number of mangoes exported by a farm:** [500, 600, 478, 672, ...].\n",
    "> This is a **Quantitative Discrete Variable** because mongoes cannot be in fraction or in decimal, it always be a integer value.\n"
   ]
  },
  {
   "attachments": {},
   "cell_type": "markdown",
   "metadata": {},
   "source": [
    "### Q5. Explain the concept of levels of measurement and give an example of a variable for each level. "
   ]
  },
  {
   "attachments": {},
   "cell_type": "markdown",
   "metadata": {},
   "source": [
    "> The concept of levels of measurement, also known as scales of measurement, refers to the different ways in which data can be classified based on the type and properties of the variable being measured. There are four commonly recognized levels of measurement: **nominal, ordinal, interval, and ratio**.\n",
    "\n",
    "| Level of measurement | Definition | Example variables |\n",
    "| --- | --- | --- |\n",
    "| Nominal | Categorical variables with no inherent order or numerical value. | Country of origin, favorite color, political affiliation. |\n",
    "| Ordinal | Categorical variables with a specific order or rank, but unequal or non-meaningful differences between categories. | Likert scale responses (strongly disagree, disagree, neutral, agree, strongly agree), stage of cancer (stage I, stage II, stage III, stage IV). |\n",
    "| Interval | Numerical variables with a specific order and equal intervals between values, but no true zero point. | Temperature (Celsius or Fahrenheit), Standardized test scores (SAT, ACT), credit scores, calendar years. |\n",
    "| Ratio | Numerical variables with a specific order, equal intervals between values, and a true zero point. | Income, Distance traveled, Age. |"
   ]
  },
  {
   "cell_type": "markdown",
   "metadata": {},
   "source": [
    "![Level of Measurements](https://dpbnri2zg3lc2.cloudfront.net/en/wp-content/uploads/old-blog-uploads/four-levels-of-measurement-data.jpg)"
   ]
  },
  {
   "cell_type": "markdown",
   "metadata": {},
   "source": [
    "### Q6. Why is it important to understand the level of measurement when analyzing data? Provide an example to illustrate your answer. \n"
   ]
  },
  {
   "attachments": {},
   "cell_type": "markdown",
   "metadata": {},
   "source": [
    "▶️ Understanding the level of measurement of a variable is important because it determines the types of statistical analyses that can be performed and the appropriate interpretation of the results. In other words, the level of measurement _helps researchers to identify the appropriate statistical procedures and tests to use when analyzing data_. Using the wrong statistical procedure for a given level of measurement can result in misleading or inaccurate conclusions.\n",
    "\n",
    "**For example**, let's consider a study that examines the **relationship between income and job satisfaction** among employees in a company. The _income variable is a ratio-level variable_ because it has a true zero point (no income) and equal intervals between values. In contrast, _job satisfaction is an ordinal-level variable_ because it has a specific order or rank, but unequal or non-meaningful differences between categories.  \n",
    "If the researcher were to **use a correlation analysis to examine the relationship between these two variables**, the result would be **incorrect** because _correlation is only appropriate for ratio-level variables_.  \n",
    "Instead, a more appropriate statistical test for analyzing the relationship between a ratio-level and ordinal-level variable would be a **chi-squared test or a t-test**.\n",
    "\n",
    "> In summary, understanding the level of measurement of variables is _crucial for selecting appropriate statistical methods_ and interpreting results accurately in data analysis."
   ]
  },
  {
   "cell_type": "markdown",
   "metadata": {},
   "source": [
    "### Q7. How nominal data type is different from ordinal data type. \n"
   ]
  },
  {
   "attachments": {},
   "cell_type": "markdown",
   "metadata": {},
   "source": [
    "▶️ **Nominal data** consists of categories that are mutually exclusive and do not have any inherent order or ranking.  \n",
    "\n",
    "**Example:**  \n",
    "Gender `[male, female]`.  \n",
    "Hair Color `[blonde, brunette, red]`.  \n",
    "Marital Status `[single, married, divorced]`.\n",
    "\n",
    "▶️ **Ordinal data** refers to data that has an inherent order or ranking, but the differences between categories may not be equal or meaningful.  \n",
    "\n",
    "**Example:**  \n",
    "Educational level `[elementary school, high school, college]`.  \n",
    "Level of Agreement `[strongly disagree, disagree, neutral, agree, strongly agree]`.  \n",
    "Rating Scales `[poor, fair, good, excellent]`."
   ]
  },
  {
   "attachments": {},
   "cell_type": "markdown",
   "metadata": {},
   "source": [
    "### Q8. Which type of plot can be used to display data in terms of range? "
   ]
  },
  {
   "attachments": {},
   "cell_type": "markdown",
   "metadata": {},
   "source": [
    "##### Box plot is used to display data in terms of range. It show 5-number summary which are Minimum Value, 25th percentile Value, Middle Value, 75th percentile Value, Maximum Value.\n",
    "\n",
    "##### Box plots are particularly useful for comparing the range and distribution of different groups of data, as multiple box plots can be displayed side by side for comparison. They are also useful for identifying outliers, which are values that fall outside the minimum or maximum range of the dataset.\n",
    "\n",
    "![Box plot](https://miro.medium.com/max/9000/1*2c21SkzJMf3frPXPAR_gZA.png)"
   ]
  },
  {
   "attachments": {},
   "cell_type": "markdown",
   "metadata": {},
   "source": [
    "##### Histogram is also one of the plot that can be shown in terms of ranges.\n",
    "\n",
    "##### A histogram is particularly useful for displaying continuous data, as it allows you to see the shape of the distribution, including any peaks or clusters, as well as the range and spread of the data. It can also help identify outliers or unusual patterns in the data.\n",
    "\n",
    "![Histogram](https://www150.statcan.gc.ca/n1/edu/power-pouvoir/c-g/c-g05-7-1-eng.png)"
   ]
  },
  {
   "cell_type": "markdown",
   "metadata": {},
   "source": [
    "### Q9. Describe the difference between descriptive and inferential statistics. Give an example of each type of statistics and explain how they are used. \n"
   ]
  },
  {
   "attachments": {},
   "cell_type": "markdown",
   "metadata": {},
   "source": [
    "| Type of Statistics | Definition | Example |\n",
    "| ----- | ----- | ----- |\n",
    "| Descriptive Statistics | Summarizes and describes the basic features of a dataset. | Mean, Median, Mode, Range, Standard Deviation, Histogram, Bar chart. |\n",
    "| Inferential Statistics | Used to make inferences or draw conclusions about a larger population based on a smaller sample of data. | Hypothesis Testing, Confidence Intervals, Regression Analysis, ANOVA. |\n"
   ]
  },
  {
   "cell_type": "markdown",
   "metadata": {},
   "source": [
    "### Q10. What are some common measures of central tendency and variability used in statistics? Explain how each measure can be used to describe a dataset."
   ]
  },
  {
   "attachments": {},
   "cell_type": "markdown",
   "metadata": {},
   "source": [
    "| Measure | Definition | Mathematical Formula |\n",
    "| --- | --- | --- |\n",
    "| **Central Tendency** | | |\n",
    "| Mean | Arithmetic average of a set of values | $\\frac{1}{n}\\sum_{i=1}^{n}x_i$ |\n",
    "| Median | Middle value in a dataset when it is ordered from smallest to largest | |\n",
    "| Mode | Most common value in a dataset | |\n",
    "| **Variability** | | |\n",
    "| Range | Difference between the largest and smallest values in a dataset | $range = max(x) - min(x)$ |\n",
    "| Variance | Average of the squared differences from the mean | $s^2 = \\frac{\\sum_{i=1}^{n}(x_i - \\bar{x})^2}{n-1}$ |\n",
    "| Standard Deviation | Square root of the variance | $s = \\sqrt{\\frac{\\sum_{i=1}^{n}(x_i - \\bar{x})^2}{n-1}}$ |\n",
    "\n",
    "The use of $n-1$ instead of $n$ in the variance and standard deviation formulae is known as Bessel's correction, which is used to adjust for the fact that the sample variance tends to underestimate the true variance of the population."
   ]
  },
  {
   "attachments": {},
   "cell_type": "markdown",
   "metadata": {},
   "source": [
    "> **Source:** [Notebook Link](https://github.com/utkarshg1/PWSkills-Assignments/blob/main/Assignment%2030%20-%2006%20March%202023/Assignment30Utkarsh.ipynb)"
   ]
  }
 ],
 "metadata": {
  "language_info": {
   "name": "python"
  },
  "orig_nbformat": 4
 },
 "nbformat": 4,
 "nbformat_minor": 2
}
