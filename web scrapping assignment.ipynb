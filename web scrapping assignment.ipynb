{
 "cells": [
  {
   "attachments": {},
   "cell_type": "markdown",
   "metadata": {},
   "source": [
    "### Q1. What is Web Scraping? Why is it Used? Give three areas where Web Scraping is used to get data.\n",
    "\n",
    "> `Web Scrapping` is way to gether data from website to perform analysis on it.\n",
    "\n",
    "> It is used to gather data from public websites which are required for your work.\n",
    "\n",
    "#### Three area where Web Scrapping is used to data\n",
    "\n",
    "1. **E-commerce:** Web scraping is used to collect product information and prices from different e-commerce websites like Amazon, flipkart etc.\n",
    "2. **Research and Analysis:** Web scraping is used to collect data from different sources to perform research and analysis in various fields.\n",
    "3. **Marketing and Sales:** Web scraping is used to collect data on consumer behavior and preferences, competitor analysis, and social media monitoring to improve customer experience with the products."
   ]
  },
  {
   "attachments": {},
   "cell_type": "markdown",
   "metadata": {},
   "source": [
    "### Q2. What are the different methods used for Web Scraping? \n",
    "\n",
    "1. Using customized `Python Scripts` you can scrape the websites web pages data.\n",
    "2. Some websites offer APIs to access data, which can be used for web scraping purposes."
   ]
  },
  {
   "attachments": {},
   "cell_type": "markdown",
   "metadata": {},
   "source": [
    "### Q3. What is Beautiful Soup? Why is it used? \n",
    "\n",
    "**Beautiful Soup** is a `class` in `bs4` module in `Python` which is used to parse through html scripts and get data out of it."
   ]
  },
  {
   "attachments": {},
   "cell_type": "markdown",
   "metadata": {},
   "source": [
    "### Q4. Why is flask used in this Web Scraping project? \n",
    "\n",
    "> `Flask` is a **micro web framework in Python** that is commonly used for building web applications, including web scraping applications.\n",
    "\n",
    "> `Flask` can be used to create a web application that can scrape data from websites, process the data, and display it to the user."
   ]
  },
  {
   "attachments": {},
   "cell_type": "markdown",
   "metadata": {},
   "source": [
    "### Q5. Write the names of AWS services used in this project. Also, explain the use of each service.\n",
    "\n",
    "#### Sevices used in this project are :\n",
    "\n",
    "1. **Beanstalk :** AWS `Elastic Beanstalk` is a fully managed service that makes it easy to deploy and scale web applications and services. It provides an environment for hosting your web applications that automatically handles the deployment.\n",
    "\n",
    "2. **CodePipeline :** AWS `CodePipeline` is a continuous integration and continuous delivery **(CI/CD)** service used to build, test, and deploy code.`CodePipeline` integrates with other AWS services like `Elastic Beanstalk, CodeCommit, CodeBuild, CodeDeploy` allowing the user to build a complete CI/CD pipeline."
   ]
  }
 ],
 "metadata": {
  "kernelspec": {
   "display_name": "Python 3",
   "language": "python",
   "name": "python3"
  },
  "language_info": {
   "name": "python",
   "version": "3.11.0"
  },
  "orig_nbformat": 4,
  "vscode": {
   "interpreter": {
    "hash": "aee8b7b246df8f9039afb4144a1f6fd8d2ca17a180786b69acc140d282b71a49"
   }
  }
 },
 "nbformat": 4,
 "nbformat_minor": 2
}
