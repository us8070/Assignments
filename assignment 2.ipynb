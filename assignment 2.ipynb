{
 "cells": [
  {
   "cell_type": "code",
   "execution_count": 1,
   "id": "ab71550e-c77e-49fa-8b04-ab54c0edfb5a",
   "metadata": {},
   "outputs": [],
   "source": [
    "#Q1. How do you comment code in Python? What are the different types of comments?"
   ]
  },
  {
   "cell_type": "code",
   "execution_count": 2,
   "id": "9ce36c88-9a5a-4cc5-91ea-3f6e8a31c449",
   "metadata": {},
   "outputs": [],
   "source": [
    "#There are 2 type of comment in Python:\n",
    "\n",
    "#1. Single line comment in which we use '#' To comment the code\n",
    "\n",
    "#2. Muti line comment in which we use triple single quote ''' and triple double quote \"\"\" To comment the code"
   ]
  },
  {
   "cell_type": "code",
   "execution_count": 3,
   "id": "82dca1b6-7a57-44ac-a5a7-56af0b9c8b2c",
   "metadata": {},
   "outputs": [
    {
     "data": {
      "text/plain": [
       "'Multi line comment\\nWe can use it as a string too.'"
      ]
     },
     "execution_count": 3,
     "metadata": {},
     "output_type": "execute_result"
    }
   ],
   "source": [
    "#Single line comment\n",
    "\n",
    "'''Multi line comment\n",
    "We can use it as a string too.'''"
   ]
  },
  {
   "cell_type": "code",
   "execution_count": 4,
   "id": "b980271c-0251-4f72-9c34-0987a0a84ce8",
   "metadata": {},
   "outputs": [],
   "source": [
    "#Q2. What are variables in Python? How do you declare and assign values to variables?"
   ]
  },
  {
   "cell_type": "code",
   "execution_count": 5,
   "id": "67df7b95-3c0c-4cdc-834a-918958d412dd",
   "metadata": {},
   "outputs": [],
   "source": [
    "#Ans. Variable is used as a container which store values or data for us.\n",
    "#After declaring the variable we can use it anywhere in the programme with the help of its name and manuplate it.\n",
    "\n",
    "#We can declare variables by following these steps:-\n",
    "\n",
    "#In Python, we need not declare a variable with some specific data type\n",
    "\n",
    "#Python has no command for declaring a variable. A variable is created when some value is assigned to it. The value assigned to a variable determines the data type of that variable.\n",
    "\n",
    "#Thus, declaring a variable in Python is very simple.\n",
    "\n",
    "#Just name the variable\n",
    "#Assign the required value to it\n",
    "#The data type of the variable will be automatically determined from the value assigned, we need not define it explicitly."
   ]
  },
  {
   "cell_type": "code",
   "execution_count": 6,
   "id": "9295dc60-2b33-4827-b61f-0f3f94bdc22c",
   "metadata": {},
   "outputs": [],
   "source": [
    "#Q3. How do you convert one data type to another in Python?"
   ]
  },
  {
   "cell_type": "code",
   "execution_count": 9,
   "id": "75d41173-5224-4bfc-bf8c-a10971e36831",
   "metadata": {},
   "outputs": [
    {
     "name": "stdout",
     "output_type": "stream",
     "text": [
      "convert \"14\" type <class 'str'> to 14 type <class 'int'>\n"
     ]
    }
   ],
   "source": [
    "#Ans:-\n",
    "#String to int (only if it contain a valid integer representation)\n",
    "a = \"14\"\n",
    "b = int(a)\n",
    "\n",
    "print(f'convert \"{a}\" type {type(a)} to {b} type {type(b)}')"
   ]
  },
  {
   "cell_type": "code",
   "execution_count": 10,
   "id": "2c6a8c49-0de6-46b7-9482-e6eb4ad587bc",
   "metadata": {},
   "outputs": [],
   "source": [
    "#Q4. How do you write and execute a Python script from the command line?"
   ]
  },
  {
   "cell_type": "code",
   "execution_count": 11,
   "id": "d4d41156-bd94-446b-b80d-91739fbcbbc1",
   "metadata": {},
   "outputs": [],
   "source": [
    "#Ans. We can follow this steps to execute the Python script:\n",
    "\n",
    "#1. Open the texteditor for example: Visual studio code\n",
    "\n",
    "#2. Write a code into it for example: print(\"Hello PW skills\")\n",
    "\n",
    "#3. Save the file with .py extenstion into your local pc for example: hello.py\n",
    "\n",
    "#4. Open a 'terminal' into the mac or in window open a 'command promt'\n",
    "\n",
    "#5. Nevigate the file it with the help of cd command for example you save it on you desktop: cd desktop\n",
    "\n",
    "#6. Once you nevigate it Execute it with the help of python3 command for example: python3 hello.py"
   ]
  },
  {
   "cell_type": "code",
   "execution_count": 12,
   "id": "ae84baf8-53c8-4454-91a8-607d9559418a",
   "metadata": {},
   "outputs": [],
   "source": [
    "#Q5. Given a list my_list = [1, 2, 3, 4, 5], write the code to slice the list and obtain the sub-list [2, 3]."
   ]
  },
  {
   "cell_type": "code",
   "execution_count": 13,
   "id": "aa5708a1-73bd-4472-afb3-85745ab318ab",
   "metadata": {},
   "outputs": [
    {
     "data": {
      "text/plain": [
       "[2, 3]"
      ]
     },
     "execution_count": 13,
     "metadata": {},
     "output_type": "execute_result"
    }
   ],
   "source": [
    "my_list = [1,2,3,4,5]\n",
    "\n",
    "sub_list = my_list[1:3]\n",
    "\n",
    "sub_list"
   ]
  },
  {
   "cell_type": "code",
   "execution_count": 15,
   "id": "17ad4810-6ba7-4044-9686-22337d4ad670",
   "metadata": {},
   "outputs": [
    {
     "name": "stdout",
     "output_type": "stream",
     "text": [
      "[2, 3]\n"
     ]
    }
   ],
   "source": [
    "my_list = [1, 2, 3, 4, 5]\n",
    "\n",
    "print(my_list[1:3])"
   ]
  },
  {
   "cell_type": "code",
   "execution_count": 17,
   "id": "c51fd2e3-f78e-4373-ae70-31fba4444e78",
   "metadata": {},
   "outputs": [],
   "source": [
    "#Q6. What is a complex number in mathematics, and how is it represented in Python?"
   ]
  },
  {
   "cell_type": "code",
   "execution_count": 18,
   "id": "c333cd50-a48d-4f53-85f8-56791ecf5c50",
   "metadata": {},
   "outputs": [],
   "source": [
    "#Complex number is a number which is expressed like a+bi where a and b is reak number and i is imaginary number.\n",
    "#In Python we can write j instead of i to represent the imaginary unit of the complex number. So, in Python we can write it like this a+bj. For example:"
   ]
  },
  {
   "cell_type": "code",
   "execution_count": 19,
   "id": "79185d53-1945-4c3e-a882-2ea787fc9474",
   "metadata": {},
   "outputs": [
    {
     "name": "stdout",
     "output_type": "stream",
     "text": [
      "Real part of the complex number is 2.0 & Imaginary part of the complex number is 3.0\n"
     ]
    }
   ],
   "source": [
    "#Complex number\n",
    "num = 2+3j\n",
    "\n",
    "print(f'Real part of the complex number is {num.real} & Imaginary part of the complex number is {num.imag}')"
   ]
  },
  {
   "cell_type": "code",
   "execution_count": 20,
   "id": "2e2126a2-c070-4a14-9b6c-b80246a08579",
   "metadata": {},
   "outputs": [],
   "source": [
    "#Q7. What is the correct way to declare a variable named age and assign the value 25 to it?"
   ]
  },
  {
   "cell_type": "code",
   "execution_count": 21,
   "id": "e7e79dae-4e56-4bf7-90c6-b15cef1ce815",
   "metadata": {},
   "outputs": [],
   "source": [
    "age = 25"
   ]
  },
  {
   "cell_type": "code",
   "execution_count": 22,
   "id": "aafbfed7-0ee8-4b35-9f1d-b855fe8dda0d",
   "metadata": {},
   "outputs": [],
   "source": [
    "#Q8. Declare a variable named price and assign the value 9.99 to it. What data type does this variable"
   ]
  },
  {
   "cell_type": "code",
   "execution_count": 23,
   "id": "59465157-6dd7-4a47-afd1-fd32eaf9007e",
   "metadata": {},
   "outputs": [
    {
     "data": {
      "text/plain": [
       "float"
      ]
     },
     "execution_count": 23,
     "metadata": {},
     "output_type": "execute_result"
    }
   ],
   "source": [
    "price = 9.99\n",
    "\n",
    "type(price)"
   ]
  },
  {
   "cell_type": "code",
   "execution_count": 24,
   "id": "8755bc88-c379-4ca0-aade-c6a6b050447d",
   "metadata": {},
   "outputs": [],
   "source": [
    "#Q9. Create a variable named name and assign your full name to it as a string. How would you print the\n",
    "#value of this variable?"
   ]
  },
  {
   "cell_type": "code",
   "execution_count": 25,
   "id": "a576925b-f2ca-4b6d-8cc3-e9763cb47a4f",
   "metadata": {},
   "outputs": [
    {
     "name": "stdout",
     "output_type": "stream",
     "text": [
      "Hello Ujjwal Kumar!\n",
      "Ujjwal Kumar\n"
     ]
    }
   ],
   "source": [
    "name = \"Ujjwal Kumar\"\n",
    "\n",
    "print(f\"Hello {name}!\")\n",
    "print(name)"
   ]
  },
  {
   "cell_type": "code",
   "execution_count": 26,
   "id": "ea86c7d6-bb91-480a-9eb5-787e511bb3c1",
   "metadata": {},
   "outputs": [],
   "source": [
    "#Q10. Given the string \"Hello, World!\", extract the substring \"World\"."
   ]
  },
  {
   "cell_type": "code",
   "execution_count": 27,
   "id": "07f2c0f2-5966-4e8e-8cbe-71a2f92de8b1",
   "metadata": {},
   "outputs": [
    {
     "data": {
      "text/plain": [
       "'World'"
      ]
     },
     "execution_count": 27,
     "metadata": {},
     "output_type": "execute_result"
    }
   ],
   "source": [
    "s=\"Hello, World!\"\n",
    "s[7:12:1]"
   ]
  },
  {
   "cell_type": "code",
   "execution_count": 28,
   "id": "4f3af424-b767-44f4-be89-3abbe9692da3",
   "metadata": {},
   "outputs": [
    {
     "data": {
      "text/plain": [
       "'World'"
      ]
     },
     "execution_count": 28,
     "metadata": {},
     "output_type": "execute_result"
    }
   ],
   "source": [
    "string = \"Hello, World!\"\n",
    "\n",
    "sub_string = string[7:12]\n",
    "\n",
    "sub_string"
   ]
  },
  {
   "cell_type": "code",
   "execution_count": null,
   "id": "8f1c32f9-74f7-44ed-874d-89df97750235",
   "metadata": {},
   "outputs": [],
   "source": [
    "Q11. Create a variable named \"is_student\" and assign it a boolean value indicating whether you are\n",
    "currently a student or not."
   ]
  }
 ],
 "metadata": {
  "kernelspec": {
   "display_name": "Python 3 (ipykernel)",
   "language": "python",
   "name": "python3"
  },
  "language_info": {
   "codemirror_mode": {
    "name": "ipython",
    "version": 3
   },
   "file_extension": ".py",
   "mimetype": "text/x-python",
   "name": "python",
   "nbconvert_exporter": "python",
   "pygments_lexer": "ipython3",
   "version": "3.10.8"
  }
 },
 "nbformat": 4,
 "nbformat_minor": 5
}
