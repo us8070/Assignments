{
 "cells": [
  {
   "cell_type": "code",
   "execution_count": 1,
   "id": "29518a92-cc7e-4753-90f3-4d2429945149",
   "metadata": {},
   "outputs": [],
   "source": [
    "#Q1. Which keyword is used to create a function? Create a function to return a list of odd numbers in the\n",
    "#range of 1 to 25."
   ]
  },
  {
   "cell_type": "code",
   "execution_count": 2,
   "id": "67abdf08-f95b-4e71-9639-39ae0633d99a",
   "metadata": {},
   "outputs": [],
   "source": [
    "#Ans:-def keyword is used to create a function.\n",
    "\n",
    "def odd_num(a= list(range(1,26))):\n",
    "    return [i for i in a if i%2 != 0]"
   ]
  },
  {
   "cell_type": "code",
   "execution_count": 3,
   "id": "294e3c52-a699-46a9-8d21-f872dae40a02",
   "metadata": {},
   "outputs": [
    {
     "data": {
      "text/plain": [
       "[1, 3, 5, 7, 9, 11, 13, 15, 17, 19, 21, 23, 25]"
      ]
     },
     "execution_count": 3,
     "metadata": {},
     "output_type": "execute_result"
    }
   ],
   "source": [
    "odd_num()"
   ]
  },
  {
   "cell_type": "code",
   "execution_count": 4,
   "id": "025bc865-13d1-46fd-915b-ec55b8af7745",
   "metadata": {},
   "outputs": [],
   "source": [
    "#Q2. Why *args and **kwargs is used in some functions? Create a function each for *args and **kwargs\n",
    "#to demonstrate their use."
   ]
  },
  {
   "cell_type": "code",
   "execution_count": 5,
   "id": "1cc53b19-7473-4f53-9cc4-15d05e29c84e",
   "metadata": {},
   "outputs": [],
   "source": [
    "#Ans:- *args is where you don't know the number of argument you required into a function. And **kwargs is used where you don't know the number of key value pair arguments you required into the function"
   ]
  },
  {
   "cell_type": "code",
   "execution_count": 6,
   "id": "5d3fc813-08cb-4d08-84af-5166f725a8b4",
   "metadata": {},
   "outputs": [
    {
     "data": {
      "text/plain": [
       "15"
      ]
     },
     "execution_count": 6,
     "metadata": {},
     "output_type": "execute_result"
    }
   ],
   "source": [
    "##Example of *args\n",
    "#Calculate the n number of numbers \n",
    "def total(*args):\n",
    "    x = 0\n",
    "    for i in args:\n",
    "        x = x + i\n",
    "    return x\n",
    "\n",
    "#Calling the function\n",
    "total(1,2,3,4,5)    "
   ]
  },
  {
   "cell_type": "code",
   "execution_count": 7,
   "id": "6e77601b-fe54-482c-9317-4d1803903a4a",
   "metadata": {},
   "outputs": [
    {
     "data": {
      "text/plain": [
       "(['a', 'b', 'c', 'd'], [1, 2, 3, 4])"
      ]
     },
     "execution_count": 7,
     "metadata": {},
     "output_type": "execute_result"
    }
   ],
   "source": [
    "##Example of **kwargs \n",
    "#Seprate Key and values\n",
    "def seprate(**kwargs):\n",
    "    key = [k for k,v in kwargs.items()]\n",
    "    value = [v for k,v in kwargs.items()]\n",
    "    return key, value\n",
    "\n",
    "#Calling a function\n",
    "seprate(a=1,b=2,c=3,d=4)       "
   ]
  },
  {
   "cell_type": "code",
   "execution_count": 8,
   "id": "69a9176f-9339-4647-a35c-7d1122c3e4f0",
   "metadata": {},
   "outputs": [],
   "source": [
    "#Q3. What is an iterator in python? Name the method used to initialise the iterator object and the method\n",
    "#used for iteration. Use these methods to print the first five elements of the given list [2, 4, 6, 8, 10, 12, 14,\n",
    "#16, 18, 20]."
   ]
  },
  {
   "cell_type": "code",
   "execution_count": 9,
   "id": "037d6aa9-7f65-4875-bb63-a7ba7715d95c",
   "metadata": {},
   "outputs": [
    {
     "name": "stdout",
     "output_type": "stream",
     "text": [
      "2\n",
      "4\n",
      "6\n",
      "8\n",
      "10\n"
     ]
    }
   ],
   "source": [
    "#Ans:-Iterator is an object that can convert iterable type objects like string, list, dict, tuple into iterator with the help of iter() method then iterate(loop) the each value with the help of next() method.\n",
    "\n",
    "#iter() is the method used to initialise the iterator object. And next() is the method used for iteration.\n",
    "\n",
    "l = [2, 4, 6, 8, 10, 12, 14, 16, 18, 20]\n",
    "l1=iter(l)\n",
    "i = 0\n",
    "while i < 5:\n",
    "    print(next(l1))\n",
    "    i+= 1"
   ]
  },
  {
   "cell_type": "code",
   "execution_count": 10,
   "id": "1d058d1a-a005-4eca-9866-a5709080207e",
   "metadata": {},
   "outputs": [],
   "source": [
    "#Q4. What is a generator function in python? Why yield keyword is used? Give an example of a generator\n",
    "#function."
   ]
  },
  {
   "cell_type": "code",
   "execution_count": 11,
   "id": "b9f2676f-c3fd-4322-9ced-298399790489",
   "metadata": {},
   "outputs": [
    {
     "name": "stdin",
     "output_type": "stream",
     "text": [
      "Enter number of fibonaci required:  6\n"
     ]
    },
    {
     "name": "stdout",
     "output_type": "stream",
     "text": [
      "0\n",
      "1\n",
      "1\n",
      "2\n",
      "3\n",
      "5\n"
     ]
    }
   ],
   "source": [
    "# A generator function in Python is a type of function that returns an iterator object, which allows us to iterate over a sequence of values on the fly without having to store all of the values in memory at once.\n",
    "\n",
    "#The yield keyword allows us to create a generator function that returns a sequence of values, without having to store all of the values in memory at once.\n",
    "\n",
    "\n",
    "##Genrator function\n",
    "def fib(n):\n",
    "    a,b = 0,1\n",
    "    for i in range(n):\n",
    "        yield a\n",
    "        a,b = b , a+b\n",
    "\n",
    "user = int(input(\"Enter number of fibonaci required: \"))\n",
    "for i in fib(user):\n",
    "    print(i)"
   ]
  },
  {
   "cell_type": "code",
   "execution_count": 12,
   "id": "fcba2ce5-713e-458f-8a46-720eb5d6fcec",
   "metadata": {},
   "outputs": [],
   "source": [
    "#Q.5-Create a generator function for prime numbers less than 1000. Use the next() method to print the\n",
    "#first 20 prime numbers."
   ]
  },
  {
   "cell_type": "code",
   "execution_count": 14,
   "id": "ed2834c0-eb08-4be2-a957-8fbb8a8f2b66",
   "metadata": {},
   "outputs": [
    {
     "data": {
      "text/plain": [
       "[2, 3, 5, 7, 11, 13, 17, 19, 23, 29, 31, 37, 41, 43, 47, 53, 59, 61, 67, 71]"
      ]
     },
     "execution_count": 14,
     "metadata": {},
     "output_type": "execute_result"
    }
   ],
   "source": [
    "#prime number function\n",
    "def prime(num):\n",
    "    if num < 2:\n",
    "        return False\n",
    "    for i in range (2, int(num**0.5)+1):\n",
    "        if num%i == 0:\n",
    "            return False\n",
    "    return True\n",
    "\n",
    "#prime number genrator for less then 1000 \n",
    "def prime_genrator():\n",
    "    for i in range(1000):\n",
    "        if prime(i):\n",
    "            yield i\n",
    "            \n",
    "#list of first 20 prime number\n",
    "prime_num = prime_genrator()\n",
    "\n",
    "[next(prime_num) for i in range(20)]"
   ]
  },
  {
   "cell_type": "code",
   "execution_count": 15,
   "id": "1af2629e-143e-45fc-be08-f9b63a5163a2",
   "metadata": {},
   "outputs": [],
   "source": [
    "#Q.6-Write a python program to print the first 10 Fibonacci numbers using a while loop."
   ]
  },
  {
   "cell_type": "code",
   "execution_count": 16,
   "id": "1bec7c1e-90c9-4172-8c47-4bc2dc9485f2",
   "metadata": {},
   "outputs": [
    {
     "name": "stdout",
     "output_type": "stream",
     "text": [
      "0\n",
      "1\n",
      "1\n",
      "2\n",
      "3\n",
      "5\n",
      "8\n",
      "13\n",
      "21\n",
      "34\n"
     ]
    }
   ],
   "source": [
    "x=0\n",
    "a,b = 0,1\n",
    "while x<10:\n",
    "    print(a)\n",
    "    a,b = b, a+b\n",
    "    x+=1"
   ]
  },
  {
   "cell_type": "code",
   "execution_count": 17,
   "id": "fa742ce2-029e-4acc-86bd-74eba7619177",
   "metadata": {},
   "outputs": [],
   "source": [
    "#Q.7-Write a List Comprehension to iterate through the given string: ‘pwskills’.\n",
    "#Expected output: ['p', 'w', 's', 'k', 'i', 'l', 'l', 's']"
   ]
  },
  {
   "cell_type": "code",
   "execution_count": 18,
   "id": "fd3c61da-6b30-4d42-be06-eeee8390f2ed",
   "metadata": {},
   "outputs": [
    {
     "data": {
      "text/plain": [
       "['p', 'w', 's', 'k', 'i', 'l', 'l', 's']"
      ]
     },
     "execution_count": 18,
     "metadata": {},
     "output_type": "execute_result"
    }
   ],
   "source": [
    "string = 'pwskills'\n",
    "[i for i in string]"
   ]
  },
  {
   "cell_type": "code",
   "execution_count": 19,
   "id": "f1ad6b8a-4420-4a9d-a729-493991bc906e",
   "metadata": {},
   "outputs": [],
   "source": [
    "#Q8. Write a python program to check whether a given number is Palindrome or not using a while loop."
   ]
  },
  {
   "cell_type": "code",
   "execution_count": null,
   "id": "07909ed8-914a-4973-9a30-0e54b1f50190",
   "metadata": {},
   "outputs": [],
   "source": [
    "\n",
    "user= int(input('Enter number to check is Palindrome: '))\n",
    "inital_num= user\n",
    "num= inital_num\n",
    "rev_num= 0\n",
    "\n",
    "while num>0:\n",
    "    x= num%10 #last digit\n",
    "    rev_num = rev_num* 10 + x \n",
    "    num//=10 #remove last digit\n",
    "\n",
    "if rev_num == inital_num:\n",
    "    print(f'{inital_num} is a Palindrome number')\n",
    "else:\n",
    "    print(f'{inital_num} is not a Palindrome number')"
   ]
  },
  {
   "cell_type": "code",
   "execution_count": null,
   "id": "b39c69e0-ec82-412b-ac1a-d40f4b33f2f0",
   "metadata": {},
   "outputs": [],
   "source": []
  }
 ],
 "metadata": {
  "kernelspec": {
   "display_name": "Python 3 (ipykernel)",
   "language": "python",
   "name": "python3"
  },
  "language_info": {
   "codemirror_mode": {
    "name": "ipython",
    "version": 3
   },
   "file_extension": ".py",
   "mimetype": "text/x-python",
   "name": "python",
   "nbconvert_exporter": "python",
   "pygments_lexer": "ipython3",
   "version": "3.10.8"
  }
 },
 "nbformat": 4,
 "nbformat_minor": 5
}
