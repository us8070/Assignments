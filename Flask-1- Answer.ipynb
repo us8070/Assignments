{
 "cells": [
  {
   "cell_type": "code",
   "execution_count": 1,
   "metadata": {},
   "outputs": [],
   "source": [
    "# Flask dependencies: Werkzeug Jinja click itsdangerous MarkupSafe\n",
    "\n",
    "from flask import Flask"
   ]
  },
  {
   "cell_type": "code",
   "execution_count": 2,
   "metadata": {},
   "outputs": [],
   "source": [
    "app = Flask(__name__)"
   ]
  },
  {
   "attachments": {},
   "cell_type": "markdown",
   "metadata": {},
   "source": [
    "### Q1. What is Flask Framework? What are the advantages of Flask Framework? \n",
    "\n",
    "> `Flask:` is a micro framework used to make web applications using `Python`.\n",
    "\n",
    "#### Advantages\n",
    "\n",
    "1. It is simple to use and easy to work on.\n",
    "2. It is a micro framework so you can deploy it in no time."
   ]
  },
  {
   "attachments": {},
   "cell_type": "markdown",
   "metadata": {},
   "source": [
    "### Q2. Create a simple Flask application to display ‘Hello World!!’. Attach the screenshot of the output in Jupyter Notebook. \n",
    "\n",
    "![Screenshot-Q2](./Q2.png)"
   ]
  },
  {
   "cell_type": "code",
   "execution_count": null,
   "metadata": {},
   "outputs": [],
   "source": [
    "@app.route('/hello-world')\n",
    "def hello_world():\n",
    "    return '<h2>Hello World!!</h2>'\n"
   ]
  },
  {
   "attachments": {},
   "cell_type": "markdown",
   "metadata": {},
   "source": [
    "### Q3. What is App routing in Flask? Why do we use app routes?\n",
    "\n",
    "> In Flask, **App Routing** means mapping the URLs to a specific function that will handle the logic for that URL.\n",
    "\n",
    "> **App Routing** made the web app simple to handel because each endpoint is handel by the distinct funtion."
   ]
  },
  {
   "attachments": {},
   "cell_type": "markdown",
   "metadata": {},
   "source": [
    "### Q4. Create a “/welcome” route to display the welcome message “Welcome to ABC Corporation” and a “/” route to show the following details:\n",
    "\n",
    "```python\n",
    "{\n",
    "    'Company Name': 'ABC Corporation',\n",
    "    'Location': 'India',\n",
    "    'Contact Detail': 999-999-9999\n",
    "}\n",
    "```\n",
    "\n",
    "#### Attach the screenshot of the output in Jupyter Notebook.\n",
    "\n",
    "![Screenshot-1](./Q3-1.png)\n",
    "![Screenshot-2](./Q3-2.png)"
   ]
  },
  {
   "cell_type": "code",
   "execution_count": 3,
   "metadata": {},
   "outputs": [
    {
     "name": "stdout",
     "output_type": "stream",
     "text": [
      " * Serving Flask app '__main__'\n",
      " * Debug mode: off\n"
     ]
    },
    {
     "name": "stderr",
     "output_type": "stream",
     "text": [
      "\u001b[31m\u001b[1mWARNING: This is a development server. Do not use it in a production deployment. Use a production WSGI server instead.\u001b[0m\n",
      " * Running on http://127.0.0.1:5000\n",
      "\u001b[33mPress CTRL+C to quit\u001b[0m\n",
      "127.0.0.1 - - [25/Feb/2023 20:31:22] \"GET / HTTP/1.1\" 200 -\n",
      "127.0.0.1 - - [25/Feb/2023 20:31:38] \"GET /welcome HTTP/1.1\" 200 -\n"
     ]
    }
   ],
   "source": [
    "q4_dict = {\n",
    "    'Company Name': 'ABC Corporation',\n",
    "    'Location': 'India',\n",
    "    'Contact Detail': '999-999-9999'\n",
    "}\n",
    "\n",
    "\n",
    "@app.route('/')\n",
    "def default():\n",
    "    return q4_dict\n",
    "\n",
    "\n",
    "@app.route('/welcome')\n",
    "def welcome():\n",
    "    return f\"<h2>Welcome to {q4_dict['Company Name']}.\"\n",
    "\n",
    "\n",
    "\n",
    "if __name__ == '__main__':\n",
    "    app.run()\n"
   ]
  },
  {
   "cell_type": "markdown",
   "metadata": {},
   "source": [
    "### Q5. What function is used in Flask for URL Building? Write a Python code to demonstrate the working of the url_for() function."
   ]
  },
  {
   "cell_type": "code",
   "execution_count": 3,
   "metadata": {},
   "outputs": [
    {
     "name": "stdout",
     "output_type": "stream",
     "text": [
      "/\n",
      "/user/John%20Doe\n",
      "/post/5\n"
     ]
    }
   ],
   "source": [
    "from flask import url_for\n",
    "\n",
    "\n",
    "@app.route('/')\n",
    "def index():\n",
    "    return 'Hello World'\n",
    "\n",
    "\n",
    "@app.route('/user/<username>')\n",
    "def show_user_profile(username):\n",
    "    return 'User %s' % username\n",
    "\n",
    "\n",
    "@app.route('/post/<int:post_id>')\n",
    "def show_post(post_id):\n",
    "    return 'Post %d' % post_id\n",
    "\n",
    "\n",
    "with app.test_request_context():\n",
    "    print(url_for('index'))  # Output: /\n",
    "    print(url_for('show_user_profile', username='John Doe'))  # Output: /user/John Doe\n",
    "    print(url_for('show_post', post_id=5))  # Output: /post/5\n"
   ]
  }
 ],
 "metadata": {
  "kernelspec": {
   "display_name": "Python 3",
   "language": "python",
   "name": "python3"
  },
  "language_info": {
   "codemirror_mode": {
    "name": "ipython",
    "version": 3
   },
   "file_extension": ".py",
   "mimetype": "text/x-python",
   "name": "python",
   "nbconvert_exporter": "python",
   "pygments_lexer": "ipython3",
   "version": "3.11.0"
  },
  "orig_nbformat": 4,
  "vscode": {
   "interpreter": {
    "hash": "aee8b7b246df8f9039afb4144a1f6fd8d2ca17a180786b69acc140d282b71a49"
   }
  }
 },
 "nbformat": 4,
 "nbformat_minor": 2
}
