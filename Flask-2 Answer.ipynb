{
 "cells": [
  {
   "attachments": {},
   "cell_type": "markdown",
   "metadata": {},
   "source": [
    "### Q1. Explain GET and POST methods.\n",
    "\n",
    "> `GET` and `POST` are HTTP methods used for sending data from a client (browser) to a web server.\n",
    "\n",
    "> `GET` is used to request data from the server, while `POST` is used to submit data to the server for processing. `POST` is more secure and can handle larger amounts of data than `GET`.\n",
    "\n",
    "> Also, `GET` method uses URL to request data but `POST` mainly uses a JSON data format to send data to the server."
   ]
  },
  {
   "attachments": {},
   "cell_type": "markdown",
   "metadata": {},
   "source": [
    "### Q2. Why is request used in Flask?\n",
    "\n",
    "> In Flask, `request` is used to access the incoming data from the client-side `HTTP` requests. It allows the Flask application to read and process data sent by a client in a request, __such as form data or query parameters__, and use that data to generate an appropriate response."
   ]
  },
  {
   "attachments": {},
   "cell_type": "markdown",
   "metadata": {},
   "source": [
    "### Q3. Why is `redirect()` used in Flask?\n",
    "\n",
    "> In Flask, `redirect()` method is used to transfer the client to a new or other `URL` after fulfilling some criteria."
   ]
  },
  {
   "attachments": {},
   "cell_type": "markdown",
   "metadata": {},
   "source": [
    "### Q4. What are templates in Flask? Why is the render_template() function used?\n",
    "\n",
    "> `templates` are the `html pages` used by the Flask application as `Web Page`.\n",
    "\n",
    "> `render_template()` is used to select the `html page` to display on the Flask app."
   ]
  },
  {
   "attachments": {},
   "cell_type": "markdown",
   "metadata": {},
   "source": [
    "### Q5. Create a simple API. Use Postman to test it. Attach the screenshot of the output in the Jupyter Notebook.\n",
    "\n",
    "![API with cURL](./API.png)"
   ]
  },
  {
   "cell_type": "code",
   "execution_count": 4,
   "metadata": {},
   "outputs": [
    {
     "name": "stdout",
     "output_type": "stream",
     "text": [
      " * Serving Flask app '__main__'\n",
      " * Debug mode: off\n"
     ]
    },
    {
     "name": "stderr",
     "output_type": "stream",
     "text": [
      "\u001b[31m\u001b[1mWARNING: This is a development server. Do not use it in a production deployment. Use a production WSGI server instead.\u001b[0m\n",
      " * Running on http://127.0.0.1:5000\n",
      "\u001b[33mPress CTRL+C to quit\u001b[0m\n",
      "127.0.0.1 - - [26/Feb/2023 18:12:47] \"GET / HTTP/1.1\" 200 -\n",
      "127.0.0.1 - - [26/Feb/2023 18:12:56] \"GET /welcome HTTP/1.1\" 200 -\n"
     ]
    }
   ],
   "source": [
    "from flask import Flask\n",
    "\n",
    "app = Flask(__name__)\n",
    "\n",
    "\n",
    "@app.route('/')\n",
    "def index():\n",
    "    return {'Hello': 'This is an assignment API.'}\n",
    "\n",
    "\n",
    "@app.route('/welcome')\n",
    "def welcome():\n",
    "    return {\n",
    "        'Name': 'Anshul Raj Verma',\n",
    "        'Age': 17,\n",
    "        'Learning': ['Python', 'Pandas', 'Numpy', 'Viz', 'ML', 'NLP', 'CV', 'DL']\n",
    "    }\n",
    "\n",
    "if __name__ == '__main__':\n",
    "    app.run(host='127.0.0.1')"
   ]
  }
 ],
 "metadata": {
  "kernelspec": {
   "display_name": "Python 3",
   "language": "python",
   "name": "python3"
  },
  "language_info": {
   "codemirror_mode": {
    "name": "ipython",
    "version": 3
   },
   "file_extension": ".py",
   "mimetype": "text/x-python",
   "name": "python",
   "nbconvert_exporter": "python",
   "pygments_lexer": "ipython3",
   "version": "3.11.0"
  },
  "orig_nbformat": 4,
  "vscode": {
   "interpreter": {
    "hash": "aee8b7b246df8f9039afb4144a1f6fd8d2ca17a180786b69acc140d282b71a49"
   }
  }
 },
 "nbformat": 4,
 "nbformat_minor": 2
}
