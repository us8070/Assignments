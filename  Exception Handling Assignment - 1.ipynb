{
 "cells": [
  {
   "attachments": {},
   "cell_type": "markdown",
   "metadata": {},
   "source": [
    "### Q1. What is an Exception in python? Write the difference between Exceptions and Syntax errors.\n",
    "\n",
    "> An `Exception` in python is an error that occurs during the execution of a program. It can be handled to prevent the program from crashing. \n",
    "\n",
    "> On the other hand, `Syntax errors` are _issues with the code_ that prevent it from running due to incorrect syntax."
   ]
  },
  {
   "attachments": {},
   "cell_type": "markdown",
   "metadata": {},
   "source": [
    "### Q2. What happens when an exception is not handled? Explain with an example.\n",
    "\n",
    "> When Exception is handel the program raise an error and exit the program."
   ]
  },
  {
   "cell_type": "code",
   "execution_count": 1,
   "metadata": {},
   "outputs": [
    {
     "ename": "TypeError",
     "evalue": "'str' object does not support item assignment",
     "output_type": "error",
     "traceback": [
      "\u001b[0;31m---------------------------------------------------------------------------\u001b[0m",
      "\u001b[0;31mTypeError\u001b[0m                                 Traceback (most recent call last)",
      "Cell \u001b[0;32mIn[1], line 2\u001b[0m\n\u001b[1;32m      1\u001b[0m name \u001b[39m=\u001b[39m \u001b[39m'\u001b[39m\u001b[39mAnshul Raj Verma\u001b[39m\u001b[39m'\u001b[39m\n\u001b[0;32m----> 2\u001b[0m name[\u001b[39m0\u001b[39;49m] \u001b[39m=\u001b[39m \u001b[39m'\u001b[39m\u001b[39ma\u001b[39m\u001b[39m'\u001b[39m   \u001b[39m# Raise a \u001b[39;00m\n",
      "\u001b[0;31mTypeError\u001b[0m: 'str' object does not support item assignment"
     ]
    }
   ],
   "source": [
    "name = 'Anshul Raj Verma'\n",
    "\n",
    "name[0] = 'a'\n",
    "# Raise a TypeError: 'str' object does not support item assignment"
   ]
  },
  {
   "attachments": {},
   "cell_type": "markdown",
   "metadata": {},
   "source": [
    "### Q3. Which Python statements are used to catch and handle exceptions? Explain with an example.\n",
    "\n",
    "> `try and except` statement is used to handel exceptions in python."
   ]
  },
  {
   "cell_type": "code",
   "execution_count": 3,
   "metadata": {},
   "outputs": [
    {
     "name": "stdout",
     "output_type": "stream",
     "text": [
      "Python string does not support item assignment.\n"
     ]
    }
   ],
   "source": [
    "try:\n",
    "    name[0] = 'a'\n",
    "except TypeError:\n",
    "    print('Python string does not support item assignment.')"
   ]
  },
  {
   "attachments": {},
   "cell_type": "markdown",
   "metadata": {},
   "source": [
    "### Q4. Explain with an example:\n",
    "\n",
    "- try and else \n",
    "- finally\n",
    "- raise \n"
   ]
  },
  {
   "cell_type": "code",
   "execution_count": 4,
   "metadata": {},
   "outputs": [
    {
     "name": "stdout",
     "output_type": "stream",
     "text": [
      "File not found to read.\n",
      "Finally block excuted!\n"
     ]
    }
   ],
   "source": [
    "# try and else\n",
    "try:\n",
    "    with open('test.json', 'r') as f:\n",
    "        print('File Found and Opened.')\n",
    "except FileNotFoundError:\n",
    "    print('File not found to read.')\n",
    "else:\n",
    "    print(24+45 - (2**3))\n",
    "finally:\n",
    "    print('Finally block excuted!')"
   ]
  },
  {
   "cell_type": "code",
   "execution_count": 5,
   "metadata": {},
   "outputs": [
    {
     "ename": "ZeroDivisionError",
     "evalue": "Enter a nubmber less than or more than zero.",
     "output_type": "error",
     "traceback": [
      "\u001b[0;31m---------------------------------------------------------------------------\u001b[0m",
      "\u001b[0;31mZeroDivisionError\u001b[0m                         Traceback (most recent call last)",
      "Cell \u001b[0;32mIn[5], line 4\u001b[0m\n\u001b[1;32m      1\u001b[0m num \u001b[39m=\u001b[39m \u001b[39mint\u001b[39m(\u001b[39minput\u001b[39m(\u001b[39m'\u001b[39m\u001b[39mEnter a number: \u001b[39m\u001b[39m'\u001b[39m))\n\u001b[1;32m      3\u001b[0m \u001b[39mif\u001b[39;00m num \u001b[39m==\u001b[39m \u001b[39m0\u001b[39m:\n\u001b[0;32m----> 4\u001b[0m     \u001b[39mraise\u001b[39;00m \u001b[39mZeroDivisionError\u001b[39;00m(\u001b[39m'\u001b[39m\u001b[39mEnter a nubmber less than or more than zero.\u001b[39m\u001b[39m'\u001b[39m)\n\u001b[1;32m      5\u001b[0m \u001b[39melse\u001b[39;00m:\n\u001b[1;32m      6\u001b[0m     \u001b[39mprint\u001b[39m(\u001b[39m100\u001b[39m \u001b[39m/\u001b[39m num)\n",
      "\u001b[0;31mZeroDivisionError\u001b[0m: Enter a nubmber less than or more than zero."
     ]
    }
   ],
   "source": [
    "num = int(input('Enter a number: '))\n",
    "\n",
    "if num == 0:\n",
    "    raise ZeroDivisionError('Enter a nubmber less than or more than zero.')\n",
    "else:\n",
    "    print(100 / num)"
   ]
  },
  {
   "attachments": {},
   "cell_type": "markdown",
   "metadata": {},
   "source": [
    "### Q5. What are Custom Exceptions in python? Why do we need Custom Exceptions? Explain with an example.\n",
    "\n",
    "> Custom Exception can be raised when specific error occured in program.\n",
    "\n",
    "> We need custom Exception beacause they provide meaningful error messages and to handle specific error conditions in a more controlled way.\n",
    "\n",
    "> `Example:` Raising a custom exception for low account balance."
   ]
  },
  {
   "attachments": {},
   "cell_type": "markdown",
   "metadata": {},
   "source": [
    "### Q6. Create a custom exception class. Use this class to handle an exception."
   ]
  },
  {
   "cell_type": "code",
   "execution_count": 7,
   "metadata": {},
   "outputs": [
    {
     "name": "stdout",
     "output_type": "stream",
     "text": [
      "Insufficient balance in your account.\n",
      "Withdrawn: 50\n",
      "Remaining balance: 50\n"
     ]
    }
   ],
   "source": [
    "class InsufficientBalanceError(Exception):\n",
    "    def __init__(self, *args: object) -> None:\n",
    "        super().__init__(*args)\n",
    "\n",
    "class Account:\n",
    "    def __init__(self, balance):\n",
    "        self.balance = balance\n",
    "        \n",
    "    def withdraw(self, amount):\n",
    "        if self.balance < amount:\n",
    "            raise InsufficientBalanceError(\"Insufficient balance in your account.\")\n",
    "        self.balance -= amount\n",
    "        print(\"Withdrawn:\", amount)\n",
    "        print(\"Remaining balance:\", self.balance)\n",
    "\n",
    "a = Account(100)\n",
    "try:\n",
    "    a.withdraw(200)\n",
    "except InsufficientBalanceError as e:\n",
    "    print(e)\n",
    "finally:\n",
    "    a.withdraw(50)"
   ]
  }
 ],
 "metadata": {
  "kernelspec": {
   "display_name": "Python 3",
   "language": "python",
   "name": "python3"
  },
  "language_info": {
   "codemirror_mode": {
    "name": "ipython",
    "version": 3
   },
   "file_extension": ".py",
   "mimetype": "text/x-python",
   "name": "python",
   "nbconvert_exporter": "python",
   "pygments_lexer": "ipython3",
   "version": "3.11.0"
  },
  "orig_nbformat": 4,
  "vscode": {
   "interpreter": {
    "hash": "aee8b7b246df8f9039afb4144a1f6fd8d2ca17a180786b69acc140d282b71a49"
   }
  }
 },
 "nbformat": 4,
 "nbformat_minor": 2
}
