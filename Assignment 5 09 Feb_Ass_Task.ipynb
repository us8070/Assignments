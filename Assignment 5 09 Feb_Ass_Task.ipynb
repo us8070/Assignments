{
 "cells": [
  {
   "cell_type": "markdown",
   "id": "b5bfbbe2",
   "metadata": {},
   "source": [
    "# Q1. Create a vehicle class with an init method having instance variables as name_of_vehicle, max_speed and average_of_vehicle."
   ]
  },
  {
   "cell_type": "code",
   "execution_count": 2,
   "id": "1e273c21",
   "metadata": {},
   "outputs": [],
   "source": [
    "class vehicle():\n",
    "    def __init__(self, name_of_vehicle, max_speed, average_of_vehicle):\n",
    "        self.name_of_vehicle = name_of_vehicle\n",
    "        self.max_speed = max_speed\n",
    "        self.average_of_vehicle = average_of_vehicle"
   ]
  },
  {
   "cell_type": "code",
   "execution_count": 3,
   "id": "88584c24",
   "metadata": {},
   "outputs": [],
   "source": [
    "car = vehicle('Maruti', 80, 35)"
   ]
  },
  {
   "cell_type": "code",
   "execution_count": 5,
   "id": "f46b2a57",
   "metadata": {},
   "outputs": [
    {
     "name": "stdout",
     "output_type": "stream",
     "text": [
      "Maruti 80 35\n"
     ]
    }
   ],
   "source": [
    "print(car.name_of_vehicle, car.max_speed, car.average_of_vehicle)"
   ]
  },
  {
   "cell_type": "markdown",
   "id": "d5a143a7",
   "metadata": {},
   "source": [
    "# Q2. Create a child class car from the vehicle class created in Que 1, which will inherit the vehicle class. Create a method named seating_capacity which takes capacity as an argument and returns the name of the vehicle and its seating capacity.\n"
   ]
  },
  {
   "cell_type": "code",
   "execution_count": 8,
   "id": "2e67bccd",
   "metadata": {},
   "outputs": [],
   "source": [
    "class car(vehicle):\n",
    "    def seating_capacity(self,capacity):\n",
    "        self.capacity = capacity\n",
    "        return print(f'Name of the vehicle is {self.name_of_vehicle}, and Capacity of that vecile is {self.capacity}')"
   ]
  },
  {
   "cell_type": "code",
   "execution_count": 9,
   "id": "00424181",
   "metadata": {},
   "outputs": [
    {
     "name": "stdout",
     "output_type": "stream",
     "text": [
      "Name of the vehicle is Audi, and Capacity of that vecile is 4\n",
      "None\n"
     ]
    }
   ],
   "source": [
    "new_car = car('Audi', 100, 30)\n",
    "\n",
    "print(new_car.seating_capacity(4))"
   ]
  },
  {
   "cell_type": "markdown",
   "id": "197437e6",
   "metadata": {},
   "source": [
    "# Q3. What is multiple inheritance? Write a python code to demonstrate multiple inheritance.\n"
   ]
  },
  {
   "cell_type": "markdown",
   "id": "1bf55da5",
   "metadata": {},
   "source": [
    "And <p>Multiple inheritance allows a child class to inherit from two or more parent classes. This means that the child class can inherit attributes and methods from multiple classes, combining their functionalities.\n",
    "\n",
    "<p>Lets suppose i have a two parent class <code>class father</code> and <code>class mother</code> and one child class <code>class child</code>. which will inherit <code>class father</code> and <code>class mother</code> both. "
   ]
  },
  {
   "cell_type": "code",
   "execution_count": 56,
   "id": "c344cf9d",
   "metadata": {},
   "outputs": [],
   "source": [
    "class father():\n",
    "    def __init__(self, father_name, father_age):\n",
    "        self.father_name = father_name\n",
    "        self.father_age = father_age\n",
    "        \n",
    "class mother():\n",
    "    def __init__(self, mother_name, mother_age):\n",
    "        self.mother_name = mother_name\n",
    "        self.mother_age = mother_age\n",
    "\n",
    "class child(father, mother):\n",
    "    def __init__(self,father_name, father_age, mother_name, mother_age):\n",
    "        super().__init__(father_name, father_age)\n",
    "        mother.__init__(self,mother_name, mother_age)\n",
    "    \n",
    "    def parents(self):\n",
    "        return print(f'Child Father name is {self.father_name} and his age is {self.father_age}. Mother name is {self.mother_name} and her age is {self.mother_age}')"
   ]
  },
  {
   "cell_type": "code",
   "execution_count": 57,
   "id": "115d4d21",
   "metadata": {},
   "outputs": [],
   "source": [
    "c = child(\"Raju\", 26, \"Rani\", 20)"
   ]
  },
  {
   "cell_type": "code",
   "execution_count": 58,
   "id": "85ddcc25",
   "metadata": {},
   "outputs": [
    {
     "name": "stdout",
     "output_type": "stream",
     "text": [
      "Child Father name is Raju and his age is 26. Mother name is Rani and her age is 20\n"
     ]
    }
   ],
   "source": [
    "c.parents()"
   ]
  },
  {
   "cell_type": "markdown",
   "id": "185eb756",
   "metadata": {},
   "source": [
    "# Q4. What are getter and setter in python? Create a class and create a getter and a setter method in this class."
   ]
  },
  {
   "cell_type": "markdown",
   "id": "1a02cfaf",
   "metadata": {},
   "source": [
    "Ans <p>The <strong>getter</strong> and <strong>setter</strong> methods are commonly used with the <code>@property</code> decorator to provide access to private and protected variables while encapsulating them."
   ]
  },
  {
   "cell_type": "code",
   "execution_count": 82,
   "id": "5834651c",
   "metadata": {},
   "outputs": [],
   "source": [
    "class account():\n",
    "    def __init__(self, account_name, account_balance):\n",
    "        self.account_name = account_name\n",
    "        self.__account_balance = account_balance\n",
    "        \n",
    "    @property\n",
    "    def account_balance_access(self):\n",
    "        return self.__account_balance\n",
    "    \n",
    "    @account_balance_access.setter\n",
    "    def withdrawal(self, withdrawal):\n",
    "        self.__account_balance -= withdrawal\n",
    "        "
   ]
  },
  {
   "cell_type": "code",
   "execution_count": 83,
   "id": "10145d1d",
   "metadata": {},
   "outputs": [],
   "source": [
    "Bank = account(\"Rameez\", 3500)"
   ]
  },
  {
   "cell_type": "code",
   "execution_count": 84,
   "id": "201242e6",
   "metadata": {},
   "outputs": [
    {
     "data": {
      "text/plain": [
       "3500"
      ]
     },
     "execution_count": 84,
     "metadata": {},
     "output_type": "execute_result"
    }
   ],
   "source": [
    "#Inital price\n",
    "Bank.account_balance_access"
   ]
  },
  {
   "cell_type": "code",
   "execution_count": 86,
   "id": "38ce8690",
   "metadata": {},
   "outputs": [],
   "source": [
    "Bank.withdrawal = 500"
   ]
  },
  {
   "cell_type": "code",
   "execution_count": 87,
   "id": "c3c68a3f",
   "metadata": {},
   "outputs": [
    {
     "data": {
      "text/plain": [
       "3000"
      ]
     },
     "execution_count": 87,
     "metadata": {},
     "output_type": "execute_result"
    }
   ],
   "source": [
    "#Price after withdrwal\n",
    "Bank.account_balance_access"
   ]
  },
  {
   "cell_type": "markdown",
   "id": "b169f337",
   "metadata": {},
   "source": [
    "# Q5.What is method overriding in python? Write a python code to demonstrate method overriding."
   ]
  },
  {
   "cell_type": "code",
   "execution_count": 1,
   "id": "18a9ed1a",
   "metadata": {},
   "outputs": [],
   "source": [
    "##Method overriding is an ability of any object-oriented programming language that allows a subclass or child class to provide a specific implementation of a method that is already provided by one of its super-classes or parent classes. When a method in a subclass has the same name, same parameters or signature and same return type(or sub-type) as a method in its super-class, then the method in the subclass is said to override the method in the super-class."
   ]
  },
  {
   "cell_type": "code",
   "execution_count": 2,
   "id": "096933ad-bfe1-4f65-8a51-c03694f46a08",
   "metadata": {},
   "outputs": [
    {
     "name": "stdout",
     "output_type": "stream",
     "text": [
      "Inside Parent\n",
      "Inside Child\n"
     ]
    }
   ],
   "source": [
    "# Python program to demonstrate \n",
    "# method overriding\n",
    "  \n",
    "  \n",
    "# Defining parent class\n",
    "class Parent():\n",
    "      \n",
    "    # Constructor\n",
    "    def __init__(self):\n",
    "        self.value = \"Inside Parent\"\n",
    "          \n",
    "    # Parent's show method\n",
    "    def show(self):\n",
    "        print(self.value)\n",
    "          \n",
    "# Defining child class\n",
    "class Child(Parent):\n",
    "      \n",
    "    # Constructor\n",
    "    def __init__(self):\n",
    "        self.value = \"Inside Child\"\n",
    "          \n",
    "    # Child's show method\n",
    "    def show(self):\n",
    "        print(self.value)\n",
    "          \n",
    "          \n",
    "# Driver's code\n",
    "obj1 = Parent()\n",
    "obj2 = Child()\n",
    "  \n",
    "obj1.show()\n",
    "obj2.show()"
   ]
  },
  {
   "cell_type": "code",
   "execution_count": null,
   "id": "2006eb9a-6161-4349-8ce6-76d3e90bcb23",
   "metadata": {},
   "outputs": [],
   "source": []
  }
 ],
 "metadata": {
  "kernelspec": {
   "display_name": "Python 3 (ipykernel)",
   "language": "python",
   "name": "python3"
  },
  "language_info": {
   "codemirror_mode": {
    "name": "ipython",
    "version": 3
   },
   "file_extension": ".py",
   "mimetype": "text/x-python",
   "name": "python",
   "nbconvert_exporter": "python",
   "pygments_lexer": "ipython3",
   "version": "3.10.8"
  }
 },
 "nbformat": 4,
 "nbformat_minor": 5
}
