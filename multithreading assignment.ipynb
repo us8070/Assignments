{
 "cells": [
  {
   "attachments": {},
   "cell_type": "markdown",
   "metadata": {},
   "source": [
    "### Q1. What is multithreading in python? Why is it used? Name the module used to handle threads in python.\n",
    "\n",
    "> `Multithreading` in Python refers to the ability to run multiple threads or processes simultaneously within a single process. **Each thread is a separate flow of execution**, with its own logic. `Multithreading` is used to improve the performance of a program by making better use of the available _CPU resources_.\n",
    "\n",
    "> Python has a built-in `threading` module that provides a _higher-level interface for creating and managing threads_. This module allows you to _create and start_ new threads, _manage their life cycle_, and _share data_ between them."
   ]
  },
  {
   "attachments": {},
   "cell_type": "markdown",
   "metadata": {},
   "source": [
    "### Q2. Why threading module used? Write the use of the following functions:\n",
    "\n",
    "1. activeCount()\n",
    "2. currentThread()\n",
    "3. enumerate()\n"
   ]
  },
  {
   "attachments": {},
   "cell_type": "markdown",
   "metadata": {},
   "source": [
    "> The `threading` module in Python is used to _create and manage threads_. It provides a **higher-level interface** to work with threads as compared to the **low-level** `thread` module.\n",
    "\n",
    "#### Use of following functions:\n",
    "\n",
    "1. **`activeCount()`**: This function is used to return the number of currently active _thread_ objects in the calling thread's process. It _returns an integer_ that represents the total number of active threads.\n",
    "2. **`currentThread()`**: This function is used to _return a reference_ to the currently executing thread object. It returns a `Thread` object that represents the current thread.\n",
    "3. **`enumerate()`**: This function is used to return a list of all thread objects that are _currently active in the calling thread's process_. It _returns a list of `Thread` objects_ that represent each active thread. By default, it _returns a list of all threads_, but you can pass a Boolean argument `group=None` to get only the active threads that are started by the current process."
   ]
  },
  {
   "attachments": {},
   "cell_type": "markdown",
   "metadata": {},
   "source": [
    "### Q3. Explain the following functions:\n",
    "\n",
    "1. run()\n",
    "2. start()\n",
    "3. join()\n",
    "4. isAlive()"
   ]
  },
  {
   "attachments": {},
   "cell_type": "markdown",
   "metadata": {},
   "source": [
    "1. **`run()`**: This method is used to specify the code that will be executed in the thread. When you create a new thread, you can override the `run()` method and provide your own implementation for the thread's behavior. This method is called automatically when you call the `start()` method.\n",
    "2. **`start()`**: This method is used to start a new thread by calling the `run()` method in a separate thread of execution. It allocates the necessary resources for the thread and starts it running. When the `start()` method is called, a new thread is created, and the `run()` method is called automatically in the new thread.\n",
    "3. **`join()`**: This method is used to wait for a thread to complete its execution. When you call the `join()` method on a thread, the calling thread is blocked until the thread being joined completes its execution. This is useful when you need to synchronize the execution of multiple threads.\n",
    "4. **`isAlive()`**: This method is used to check whether a thread is still executing or not. It returns a Boolean value that indicates whether the thread is alive or not. If the thread is alive, it returns True; otherwise, it returns False. You can use this method to check the status of a thread and perform some action based on the thread's status."
   ]
  },
  {
   "attachments": {},
   "cell_type": "markdown",
   "metadata": {},
   "source": [
    "### Q4. Write a python program to create two threads. Thread one must print the list of squares and thread two must print the list of cubes.\n"
   ]
  },
  {
   "cell_type": "code",
   "execution_count": 18,
   "metadata": {},
   "outputs": [
    {
     "name": "stdout",
     "output_type": "stream",
     "text": [
      "11\n",
      "8\n",
      "27\n",
      "64\n",
      "125\n",
      "216\n",
      "343\n",
      "512\n",
      "729\n",
      "1000\n",
      "\n",
      "4\n",
      "9\n",
      "16\n",
      "25\n",
      "36\n",
      "49\n",
      "64\n",
      "81\n",
      "100\n",
      "Done\n"
     ]
    }
   ],
   "source": [
    "import threading\n",
    "\n",
    "def print_squares():\n",
    "    for i in range(1, 11):\n",
    "        print(i**2)\n",
    "\n",
    "def print_cubes():\n",
    "    for i in range(1, 11):\n",
    "        print(i**3)\n",
    "\n",
    "t1 = threading.Thread(target=print_squares)\n",
    "t2 = threading.Thread(target=print_cubes)\n",
    "\n",
    "t1.start()\n",
    "t2.start()\n",
    "\n",
    "t1.join()\n",
    "t2.join()\n",
    "\n",
    "print(\"Done\")"
   ]
  },
  {
   "attachments": {},
   "cell_type": "markdown",
   "metadata": {},
   "source": [
    "### Q5. State advantages and disadvantages of multithreading.\n",
    "\n",
    "##### Advantages of multithreading:\n",
    "\n",
    "1. **Improved performance**: Multithreading allows you to perform multiple tasks simultaneously, which can improve the overall performance of your application.\n",
    "2. **Responsiveness**: Multithreading can make your application more responsive to user interactions, by allowing it to continue to process user input while performing other tasks in the background.\n",
    "\n",
    "##### Disadvantages of multithreading:\n",
    "\n",
    "1. **Synchronization**: When multiple threads access shared resources concurrently, it can lead to synchronization issues, such as race conditions and deadlocks, which can be difficult to debug and resolve.\n",
    "2. **Overhead**: Creating and managing multiple threads can incur additional overhead and increase the memory footprint of your application, which can be a concern in resource-constrained environments."
   ]
  },
  {
   "attachments": {},
   "cell_type": "markdown",
   "metadata": {},
   "source": [
    "### Q6. Explain deadlocks and race conditions.\n",
    "\n",
    "- **Deadlocks**: A situation where two or more threads are blocked, each waiting for the other to release a resource, causing the entire application to hang.\n",
    "\n",
    "- **Race conditions**: A situation where two or more threads access a shared resource concurrently, leading to unpredictable or incorrect behavior, such as inconsistent data or program crashes."
   ]
  }
 ],
 "metadata": {
  "kernelspec": {
   "display_name": "Python 3",
   "language": "python",
   "name": "python3"
  },
  "language_info": {
   "codemirror_mode": {
    "name": "ipython",
    "version": 3
   },
   "file_extension": ".py",
   "mimetype": "text/x-python",
   "name": "python",
   "nbconvert_exporter": "python",
   "pygments_lexer": "ipython3",
   "version": "3.11.0"
  },
  "orig_nbformat": 4,
  "vscode": {
   "interpreter": {
    "hash": "aee8b7b246df8f9039afb4144a1f6fd8d2ca17a180786b69acc140d282b71a49"
   }
  }
 },
 "nbformat": 4,
 "nbformat_minor": 2
}
