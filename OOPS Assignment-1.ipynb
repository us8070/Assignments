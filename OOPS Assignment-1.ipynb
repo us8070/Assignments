{
 "cells": [
  {
   "cell_type": "markdown",
   "metadata": {},
   "source": [
    "### Q1. Explain Class and Object with respect to Object-Oriented Programming. Give a suitable example."
   ]
  },
  {
   "attachments": {},
   "cell_type": "markdown",
   "metadata": {},
   "source": [
    "> In OOPS, a `class` is a blueprint for creating objects.\n",
    "\n",
    "> An `object` is an instance of a class."
   ]
  },
  {
   "cell_type": "code",
   "execution_count": 1,
   "metadata": {},
   "outputs": [
    {
     "name": "stdout",
     "output_type": "stream",
     "text": [
      "Anshul Raj\n",
      "20\n"
     ]
    }
   ],
   "source": [
    "class Person:\n",
    "    def __init__(self, name, age):\n",
    "        self.name = name\n",
    "        self.age = age\n",
    "\n",
    "    def show_person_details(self):\n",
    "        print(f\"Name: {self.name}\")\n",
    "        print(f\"Age: {self.age}\")\n",
    "\n",
    "person1 = Person(\"Anshul Raj\", 17)\n",
    "person2 = Person(\"Verma\", 18)\n",
    "\n",
    "print(person1.name)\n",
    "\n",
    "person2.age = person2.age + 2\n",
    "print(person2.age)"
   ]
  },
  {
   "attachments": {},
   "cell_type": "markdown",
   "metadata": {},
   "source": [
    "### Q2. Name the four pillars of OOPs.\n",
    "\n",
    "**Four pillars of OOPs :**\n",
    "1. Encapsulation\n",
    "2. Abstraction\n",
    "3. Inheritance\n",
    "4. Polymorphism"
   ]
  },
  {
   "attachments": {},
   "cell_type": "markdown",
   "metadata": {},
   "source": [
    "### Q3. Explain why the `__init__()` function is used. Give a suitable example.\n",
    "\n",
    "**Use of `__init__()` function :**\n",
    "1. It automatically runs when instance of the class is created.\n",
    "2. It initialise the attributes of the object while creating instance of the object."
   ]
  },
  {
   "cell_type": "code",
   "execution_count": 2,
   "metadata": {},
   "outputs": [
    {
     "name": "stdout",
     "output_type": "stream",
     "text": [
      "Model: Scorpio\n",
      "Make: Mahindra\n"
     ]
    }
   ],
   "source": [
    "class Car:\n",
    "    def __init__(self, make, model, year):\n",
    "        self.make = make\n",
    "        self.model = model\n",
    "        self.year = year\n",
    "        self.speed = 0\n",
    "\n",
    "    def speed_up(self, value):\n",
    "        self.speed += value\n",
    "\n",
    "    def slow_down(self, value):\n",
    "        self.speed -= value\n",
    "\n",
    "my_car = Car(\"Mahindra\", \"Scorpio\", 2022)\n",
    "\n",
    "print(\"Model:\", my_car.model)\n",
    "print(\"Make:\", my_car.make)"
   ]
  },
  {
   "attachments": {},
   "cell_type": "markdown",
   "metadata": {},
   "source": [
    "### Q4. Why self is used in OOPs?\n",
    "\n",
    "> **`self`** keyword is used to refer to the current instance of a class."
   ]
  },
  {
   "attachments": {},
   "cell_type": "markdown",
   "metadata": {},
   "source": [
    "### Q5. What is inheritance? Give an example for each type of inheritance.\n",
    "\n",
    "> Inheritance used to inherit the parent class's attribute and methods.\n",
    "\n",
    "#### Different types of inheritance :\n",
    "1. Single Inheritance: `Vehicle` --> `Car`\n",
    "2. Multiple inheritance: `Vehicle + MusicSystem` --> `Car`\n",
    "3. Multi-level inheritance: `Vehicle` --> `Car` --> `SportsCar`\n",
    "4. Hierarchical inheritance: `Vehicle` --> `Car` __and__ `Vehicle` --> `Truck`"
   ]
  }
 ],
 "metadata": {
  "kernelspec": {
   "display_name": "Python 3.11.0 64-bit",
   "language": "python",
   "name": "python3"
  },
  "language_info": {
   "codemirror_mode": {
    "name": "ipython",
    "version": 3
   },
   "file_extension": ".py",
   "mimetype": "text/x-python",
   "name": "python",
   "nbconvert_exporter": "python",
   "pygments_lexer": "ipython3",
   "version": "3.11.0"
  },
  "orig_nbformat": 4,
  "vscode": {
   "interpreter": {
    "hash": "aee8b7b246df8f9039afb4144a1f6fd8d2ca17a180786b69acc140d282b71a49"
   }
  }
 },
 "nbformat": 4,
 "nbformat_minor": 2
}
