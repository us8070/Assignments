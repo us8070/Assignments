{
 "cells": [
  {
   "cell_type": "code",
   "execution_count": 1,
   "id": "e64fb25d-e230-448d-a2e2-c8da24d0c6f5",
   "metadata": {},
   "outputs": [],
   "source": [
    "#Q1. What is a database? Differentiate between SQL and NoSQL databases.\n",
    "\n",
    "#Ans:-1 Database is used to store and organise data in a server or a local system.\n",
    "\n",
    "#SQL databses are relational and uses tables to store data while NoSQL are non-relational and use flexible data models like key value and graph to store data."
   ]
  },
  {
   "cell_type": "code",
   "execution_count": 7,
   "id": "908ceb66-b706-45cc-b5a9-cc70a157f923",
   "metadata": {},
   "outputs": [],
   "source": [
    "#Q2. What is DDL? Explain why CREATE, DROP, ALTER, and TRUNCATE are used with an example.\n",
    "\n",
    "#DDL stands for Data Definition Language which is used to define and manage the structure of a database and their tables.\n",
    "\n",
    "#1.Create statement is used to create databases or tables.\n",
    "\n",
    "#CREATE TABLE employees (\n",
    " #   id INT PRIMARY KEY,\n",
    "  #  name VARCHAR(50),\n",
    "   # salary DECIMAL(10,2)\n",
    "#);\n",
    "\n",
    "\n",
    "\n",
    "\n",
    "#2.ALTER statement is used to modify the pre-defined tables schemes like adding new columns in table.\n",
    "#ALTER TABLE employees ADD COLUMN age INT;\n",
    "\n",
    "#3.DROP statement is used to remove the existing database or tables.\n",
    "#DROP TABLE employees;\n",
    "\n",
    "#4.TRUNCATE statement is used to remove all the data from an existing table, while keeping the table structure/schema as it is.\n",
    "#TRUNCATE TABLE employees;\n",
    "\n",
    "\n"
   ]
  },
  {
   "cell_type": "code",
   "execution_count": 8,
   "id": "d461d2a0-f6ec-4c5d-b046-3282e3161c44",
   "metadata": {},
   "outputs": [],
   "source": [
    "#Q3. What is DML? Explain INSERT, UPDATE, and DELETE with an example.\n",
    "\n",
    "#DML stands for Data Manupulation Language which is used to manuplate like inserting, deleting, upating and selecting the data present in the databases.\n",
    "\n",
    "\n",
    "#1.INSERT statement is used to add a data/row in a table by providing the values of tables columns.\n",
    "#INSERT INTO employees VALUES (001, 'Anshul Raj Verma', 30000.00)\n",
    "\n",
    "#2.UPDATE statement is used to modify the existing row/data in a table.\n",
    "#UPDATE employees SET 40000.00 WHERE name = 'Anshul Raj Verma';\n",
    "\n",
    "#3.DELETE statement is used to remove individual or a group of rows from a table.\n",
    "#DELETE FROM employees WHERE salary > 30000.00;"
   ]
  },
  {
   "cell_type": "code",
   "execution_count": 9,
   "id": "71d13921-c07b-40be-9a62-2fc78f08de3a",
   "metadata": {},
   "outputs": [],
   "source": [
    "#Q4. What is DQL? Explain SELECT with an example.\n",
    "\n",
    "#DQL stands for Data Query Language which is used to select or retrive data from databases.\n",
    "\n",
    "#SELECT is used to retrive data from tables.\n",
    "#-- Used to select all the data from the column\n",
    "#SELECT * FROM employees;\n",
    "#-- Used to select data on a condition\n",
    "#SELECT name, salary FROM employees WHERE salary > 40000;\n"
   ]
  },
  {
   "cell_type": "code",
   "execution_count": 10,
   "id": "c6ed1726-87dd-405c-b0cd-483631ab6c36",
   "metadata": {},
   "outputs": [],
   "source": [
    "#Q5. Explain Primary Key and Foreign Key.\n",
    "\n",
    "#Primary Key is a special key used to identify the data of a database uniquely.\n",
    "\n",
    "#Foreing Key is a key used to define a relation between two tables."
   ]
  },
  {
   "cell_type": "code",
   "execution_count": 12,
   "id": "7f5d155c-4ade-4eda-bf8a-d71b8438ffd9",
   "metadata": {},
   "outputs": [],
   "source": [
    "#Q6. Write a python code to connect MySQL to python. Explain the cursor() and execute() method.\n",
    "\n",
    "#import mysql.connector\n",
    "\n",
    "# Createing a connection with mysql database\n",
    "#db = mysql.connector.connect(\n",
    " # host=\"localhost\",\n",
    "  #user=\"username\",\n",
    " # password=\"password\",\n",
    "#  database=\"database_name\"\n",
    "#)\n",
    "\n",
    "# Creating a cursor object\n",
    "#cursor = db.cursor()\n",
    "\n",
    "# Executing a SELECT statement\n",
    "#cursor.execute(\"SELECT * FROM employees\")\n",
    "\n",
    "#for row in cursor.fetchall():\n",
    " #   print(row)\n",
    "\n",
    "# Closing the database and cursor\n",
    "#cursor.close()\n",
    "#db.close()\n",
    "\n",
    "\n",
    "#cursor() object is used to execute queries and retrieve results from the database.\n",
    "#execute() method of the cursor object is used to execute SQL statements and retrieve the results. It returns the data of affected rows else it returns None if no rows were affected."
   ]
  },
  {
   "cell_type": "code",
   "execution_count": null,
   "id": "3ae67609-6c5a-4b6a-b936-4fe8af9d4223",
   "metadata": {},
   "outputs": [],
   "source": [
    "#Q7. Give the order of execution of SQL clauses in an SQL query.\n",
    "\n",
    "#SELECT department_name, COUNT(*) AS num_employees\n",
    "#FROM employees\n",
    "#JOIN departments ON employees.department_id = departments.department_id\n",
    "3WHERE salary > 50000\n",
    "GROUP BY department_name\n",
    "HAVING COUNT(*) > 10\n",
    "ORDER BY num_employees DESC\n",
    "LIMIT 10\n"
   ]
  }
 ],
 "metadata": {
  "kernelspec": {
   "display_name": "Python 3 (ipykernel)",
   "language": "python",
   "name": "python3"
  },
  "language_info": {
   "codemirror_mode": {
    "name": "ipython",
    "version": 3
   },
   "file_extension": ".py",
   "mimetype": "text/x-python",
   "name": "python",
   "nbconvert_exporter": "python",
   "pygments_lexer": "ipython3",
   "version": "3.10.8"
  }
 },
 "nbformat": 4,
 "nbformat_minor": 5
}
