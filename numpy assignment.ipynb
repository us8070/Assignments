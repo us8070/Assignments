{
 "cells": [
  {
   "attachments": {},
   "cell_type": "markdown",
   "metadata": {},
   "source": [
    "### Consider the below code to answer further questions:\n",
    "\n",
    "```py\n",
    "import numpy as np\n",
    "list_ = [ ‘1’ , ’2’ , ‘3’ , ‘4’ , ‘5’ ]\n",
    "array_list = np.array(object = list_)\n",
    "```\n"
   ]
  },
  {
   "cell_type": "code",
   "execution_count": 1,
   "metadata": {},
   "outputs": [],
   "source": [
    "import numpy as np\n",
    "list_ = ['1', '2', '3', '4', '5']\n",
    "array_list = np.array(object=list_)"
   ]
  },
  {
   "attachments": {},
   "cell_type": "markdown",
   "metadata": {},
   "source": [
    "### Q1. Is there any difference in the data type of variables `list_` and `array_list`? If there is then write a code to print the data types of both the variables.\n"
   ]
  },
  {
   "cell_type": "code",
   "execution_count": 8,
   "metadata": {},
   "outputs": [
    {
     "name": "stdout",
     "output_type": "stream",
     "text": [
      "Data Type of list_ : <class 'str'>\n",
      "Data Type of array_list : <U1\n"
     ]
    }
   ],
   "source": [
    "print('Data Type of list_ :', type(list_[0]))\n",
    "print('Data Type of array_list :', array_list.dtype)"
   ]
  },
  {
   "attachments": {},
   "cell_type": "markdown",
   "metadata": {},
   "source": [
    "### Q2. Write a code to print the data type of each and every element of both the variables `list_` and `array_list`.\n"
   ]
  },
  {
   "cell_type": "code",
   "execution_count": 15,
   "metadata": {},
   "outputs": [
    {
     "name": "stdout",
     "output_type": "stream",
     "text": [
      "Data Type of 1 list_: <class 'str'>\n",
      "Data Type of 2 list_: <class 'str'>\n",
      "Data Type of 3 list_: <class 'str'>\n",
      "Data Type of 4 list_: <class 'str'>\n",
      "Data Type of 5 list_: <class 'str'>\n",
      "--+----+----+----+----+----+----+----+----+----+--\n",
      "Data Type of 1 in array_list: <class 'numpy.str_'>\n",
      "Data Type of 2 in array_list: <class 'numpy.str_'>\n",
      "Data Type of 3 in array_list: <class 'numpy.str_'>\n",
      "Data Type of 4 in array_list: <class 'numpy.str_'>\n",
      "Data Type of 5 in array_list: <class 'numpy.str_'>\n"
     ]
    }
   ],
   "source": [
    "# For list_ variable\n",
    "for i in list_:\n",
    "    print(f'Data Type of {i} list_:', type(i))\n",
    "\n",
    "print('--+--' * 10)\n",
    "\n",
    "for j in array_list:\n",
    "    print(f'Data Type of {j} in array_list:', type(j))\n"
   ]
  },
  {
   "attachments": {},
   "cell_type": "markdown",
   "metadata": {},
   "source": [
    "### Q3. Considering the following changes in the variable, `array_list`:\n",
    "\n",
    "```py\n",
    "array_list = np.array(object = list_, dtype = int)\n",
    "```\n",
    "\n",
    "### Will there be any difference in the data type of the elements present in both the variables, `list_` and `array_list`? If so then print the data types of each and every element present in both the variables, `list_` and `arra_list`.\n"
   ]
  },
  {
   "cell_type": "code",
   "execution_count": 16,
   "metadata": {},
   "outputs": [],
   "source": [
    "# Changes in array_list variable\n",
    "array_list = np.array(object = list_, dtype = int)"
   ]
  },
  {
   "cell_type": "code",
   "execution_count": 17,
   "metadata": {},
   "outputs": [
    {
     "name": "stdout",
     "output_type": "stream",
     "text": [
      "Data Type of 1 list_: <class 'str'>\n",
      "Data Type of 2 list_: <class 'str'>\n",
      "Data Type of 3 list_: <class 'str'>\n",
      "Data Type of 4 list_: <class 'str'>\n",
      "Data Type of 5 list_: <class 'str'>\n",
      "--+----+----+----+----+----+----+----+----+----+--\n",
      "Data Type of 1 in array_list: <class 'numpy.int64'>\n",
      "Data Type of 2 in array_list: <class 'numpy.int64'>\n",
      "Data Type of 3 in array_list: <class 'numpy.int64'>\n",
      "Data Type of 4 in array_list: <class 'numpy.int64'>\n",
      "Data Type of 5 in array_list: <class 'numpy.int64'>\n"
     ]
    }
   ],
   "source": [
    "# For list_ variable\n",
    "for i in list_:\n",
    "    print(f'Data Type of {i} list_:', type(i))\n",
    "\n",
    "print('--+--' * 10)\n",
    "\n",
    "for j in array_list:\n",
    "    print(f'Data Type of {j} in array_list:', type(j))\n"
   ]
  },
  {
   "cell_type": "markdown",
   "metadata": {},
   "source": [
    "\n",
    "#### Consider the below code to answer further questions:\n",
    "\n",
    "```py\n",
    "import numpy as np\n",
    "num_list = [ [ 1 , 2 , 3 ] , [ 4 , 5 , 6 ] ]\n",
    "num_array = np.array(object = num_list)\n",
    "```\n"
   ]
  },
  {
   "cell_type": "code",
   "execution_count": 18,
   "metadata": {},
   "outputs": [],
   "source": [
    "import numpy as np\n",
    "num_list = [[1, 2, 3], [4, 5, 6]]\n",
    "num_array = np.array(object=num_list)"
   ]
  },
  {
   "attachments": {},
   "cell_type": "markdown",
   "metadata": {},
   "source": [
    "### Q4. Write a code to find the following characteristics of variable `num_array`:\n",
    "\n",
    "1. shape\n",
    "2. size\n"
   ]
  },
  {
   "cell_type": "code",
   "execution_count": 20,
   "metadata": {},
   "outputs": [
    {
     "name": "stdout",
     "output_type": "stream",
     "text": [
      "1. Shape : (2, 3)\n",
      "2. Size : 6\n"
     ]
    }
   ],
   "source": [
    "print('1. Shape :', num_array.shape)\n",
    "print('2. Size :', num_array.size)"
   ]
  },
  {
   "attachments": {},
   "cell_type": "markdown",
   "metadata": {},
   "source": [
    "### Q5. Write a code to create numpy array of `3*3` matrix containing zeros only, using a numpy array creation function.\n",
    "\n",
    "> `Hint:` The size of the array will be `9` and the shape will be `(3,3)`.\n"
   ]
  },
  {
   "cell_type": "code",
   "execution_count": 21,
   "metadata": {},
   "outputs": [
    {
     "data": {
      "text/plain": [
       "array([[0., 0., 0.],\n",
       "       [0., 0., 0.],\n",
       "       [0., 0., 0.]])"
      ]
     },
     "execution_count": 21,
     "metadata": {},
     "output_type": "execute_result"
    }
   ],
   "source": [
    "np.zeros((3,3))"
   ]
  },
  {
   "attachments": {},
   "cell_type": "markdown",
   "metadata": {},
   "source": [
    "### Q6. Create an identity matrix of shape `(5,5)` using numpy functions?\n",
    "\n",
    "> `Hint:` An identity matrix is a matrix containing `1` diagonally and other elements will be `0`.\n"
   ]
  },
  {
   "cell_type": "code",
   "execution_count": 22,
   "metadata": {},
   "outputs": [
    {
     "data": {
      "text/plain": [
       "array([[1., 0., 0., 0., 0.],\n",
       "       [0., 1., 0., 0., 0.],\n",
       "       [0., 0., 1., 0., 0.],\n",
       "       [0., 0., 0., 1., 0.],\n",
       "       [0., 0., 0., 0., 1.]])"
      ]
     },
     "execution_count": 22,
     "metadata": {},
     "output_type": "execute_result"
    }
   ],
   "source": [
    "np.identity(5)"
   ]
  },
  {
   "cell_type": "code",
   "execution_count": 24,
   "metadata": {},
   "outputs": [
    {
     "data": {
      "text/plain": [
       "array([[1., 0., 0., 0., 0.],\n",
       "       [0., 1., 0., 0., 0.],\n",
       "       [0., 0., 1., 0., 0.],\n",
       "       [0., 0., 0., 1., 0.],\n",
       "       [0., 0., 0., 0., 1.]])"
      ]
     },
     "execution_count": 24,
     "metadata": {},
     "output_type": "execute_result"
    }
   ],
   "source": [
    "np.eye(5)"
   ]
  }
 ],
 "metadata": {
  "kernelspec": {
   "display_name": "Python 3",
   "language": "python",
   "name": "python3"
  },
  "language_info": {
   "codemirror_mode": {
    "name": "ipython",
    "version": 3
   },
   "file_extension": ".py",
   "mimetype": "text/x-python",
   "name": "python",
   "nbconvert_exporter": "python",
   "pygments_lexer": "ipython3",
   "version": "3.11.0"
  },
  "orig_nbformat": 4,
  "vscode": {
   "interpreter": {
    "hash": "aee8b7b246df8f9039afb4144a1f6fd8d2ca17a180786b69acc140d282b71a49"
   }
  }
 },
 "nbformat": 4,
 "nbformat_minor": 2
}
