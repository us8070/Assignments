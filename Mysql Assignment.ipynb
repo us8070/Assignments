{
 "cells": [
  {
   "cell_type": "markdown",
   "metadata": {},
   "source": [
    "### Q1. What is a database? Differentiate between SQL and NoSQL databases.\n"
   ]
  },
  {
   "attachments": {},
   "cell_type": "markdown",
   "metadata": {},
   "source": [
    "**Database** is used to store and organise data in a server or a local system.\n",
    "\n",
    "> **SQL** databses are relational and _uses tables to store data_ while **NoSQL** are non-relational and _use flexible data models like key value and graph to store data_."
   ]
  },
  {
   "attachments": {},
   "cell_type": "markdown",
   "metadata": {},
   "source": [
    "### Q2. What is DDL? Explain why CREATE, DROP, ALTER, and TRUNCATE are used with an example.\n",
    "\n",
    "> `DDL` stands for **Data Definition Language** which is used to define and manage the structure of a database and their tables."
   ]
  },
  {
   "attachments": {},
   "cell_type": "markdown",
   "metadata": {},
   "source": [
    "1. **`Create`** statement is used to create databases or tables.\n",
    "\n",
    "```sql\n",
    "CREATE TABLE employees (\n",
    "    id INT PRIMARY KEY,\n",
    "    name VARCHAR(50),\n",
    "    salary DECIMAL(10,2)\n",
    ");\n",
    "```\n",
    "\n",
    "2. **`ALTER`** statement is used to modify the pre-defined tables schemes like adding new columns in table.\n",
    "\n",
    "```sql\n",
    "ALTER TABLE employees ADD COLUMN age INT;\n",
    "```\n",
    "\n",
    "3. **`DROP`** statement is used to remove the existing database or tables.\n",
    "\n",
    "```sql\n",
    "DROP TABLE employees;\n",
    "```\n",
    "\n",
    "4. **`TRUNCATE`** statement is used to remove all the data from an existing table, while keeping the table structure/schema as it is.\n",
    "\n",
    "```sql\n",
    "TRUNCATE TABLE employees;\n",
    "```"
   ]
  },
  {
   "attachments": {},
   "cell_type": "markdown",
   "metadata": {},
   "source": [
    "### Q3. What is DML? Explain INSERT, UPDATE, and DELETE with an example.\n",
    "\n",
    "> `DML` stands for **Data Manupulation Language** which is used to manuplate like _inserting, deleting, upating and selecting_ the data present in the databases."
   ]
  },
  {
   "attachments": {},
   "cell_type": "markdown",
   "metadata": {},
   "source": [
    "1. **`INSERT`** statement is used to add a data/row in a table by providing the values of tables columns.\n",
    "\n",
    "```sql\n",
    "INSERT INTO employees VALUES (001, 'Anshul Raj Verma', 30000.00)\n",
    "```\n",
    "\n",
    "2. **`UPDATE`** statement is used to modify the existing row/data in a table.\n",
    "\n",
    "```sql\n",
    "UPDATE employees SET 40000.00 WHERE name = 'Anshul Raj Verma';\n",
    "```\n",
    "\n",
    "3. **`DELETE`** statement is used to remove individual or a group of rows from a table.\n",
    "\n",
    "```sql\n",
    "DELETE FROM employees WHERE salary > 30000.00;\n",
    "```"
   ]
  },
  {
   "attachments": {},
   "cell_type": "markdown",
   "metadata": {},
   "source": [
    "### Q4. What is DQL? Explain SELECT with an example.\n",
    "\n",
    "> `DQL` stands for **Data Query Language** which is used to select or retrive data from databases."
   ]
  },
  {
   "attachments": {},
   "cell_type": "markdown",
   "metadata": {},
   "source": [
    "1. **`SELECT`** is used to retrive data from tables.\n",
    "\n",
    "```sql\n",
    "-- Used to select all the data from the column\n",
    "SELECT * FROM employees;\n",
    "```\n",
    "\n",
    "```sql\n",
    "-- Used to select data on a condition\n",
    "SELECT name, salary FROM employees WHERE salary > 40000;\n",
    "```"
   ]
  },
  {
   "attachments": {},
   "cell_type": "markdown",
   "metadata": {},
   "source": [
    "### Q5. Explain Primary Key and Foreign Key.\n",
    "\n",
    "> **Primary Key** is a special key used to identify the data of a database uniquely.\n",
    "\n",
    "> **Foreing Key** is a key used to define a relation between two tables."
   ]
  },
  {
   "attachments": {},
   "cell_type": "markdown",
   "metadata": {},
   "source": [
    "### Q6. Write a python code to connect MySQL to python. Explain the cursor() and execute() method."
   ]
  },
  {
   "cell_type": "code",
   "execution_count": null,
   "metadata": {},
   "outputs": [],
   "source": [
    "import mysql.connector\n",
    "\n",
    "# Createing a connection with mysql database\n",
    "db = mysql.connector.connect(\n",
    "  host=\"localhost\",\n",
    "  user=\"username\",\n",
    "  password=\"password\",\n",
    "  database=\"database_name\"\n",
    ")\n",
    "\n",
    "# Creating a cursor object\n",
    "cursor = db.cursor()\n",
    "\n",
    "# Executing a SELECT statement\n",
    "cursor.execute(\"SELECT * FROM employees\")\n",
    "\n",
    "for row in cursor.fetchall():\n",
    "    print(row)\n",
    "\n",
    "# Closing the database and cursor\n",
    "cursor.close()\n",
    "db.close()"
   ]
  },
  {
   "attachments": {},
   "cell_type": "markdown",
   "metadata": {},
   "source": [
    "### Here,\n",
    "\n",
    "- `cursor()` object is used to execute queries and retrieve results from the database.\n",
    "- `execute()` method of the cursor object is used to execute SQL statements and retrieve the results. It returns the data of affected rows else it returns `None` if no rows were affected."
   ]
  },
  {
   "cell_type": "markdown",
   "metadata": {},
   "source": [
    "### Q7. Give the order of execution of SQL clauses in an SQL query."
   ]
  },
  {
   "attachments": {},
   "cell_type": "markdown",
   "metadata": {},
   "source": [
    "```sql\n",
    "SELECT department_name, COUNT(*) AS num_employees\n",
    "FROM employees\n",
    "JOIN departments ON employees.department_id = departments.department_id\n",
    "WHERE salary > 50000\n",
    "GROUP BY department_name\n",
    "HAVING COUNT(*) > 10\n",
    "ORDER BY num_employees DESC\n",
    "LIMIT 10\n",
    "```\n",
    "\n",
    "### In this query, the clauses are executed in the following order:\n",
    "\n",
    "- `FROM` clause: specifies the `employees` and `departments` tables that will be joined\n",
    "- `JOIN` clause: joins the two tables on the `department_id` column\n",
    "- `WHERE` clause: filters the rows based on the `salary` column being greater than 50000\n",
    "- `GROUP BY` clause: groups the rows by `department_name`\n",
    "- `HAVING` clause: filters the groups based on the count of employees being greater than 10\n",
    "- `SELECT` clause: selects the `department_name` column and a calculated column `num_employees`\n",
    "- `ORDER BY` clause: sorts the result set based on the `num_employees` column in descending order\n",
    "- `LIMIT` clause: limits the result set to 10 rows\n",
    "\n",
    "**`Note :`** that the `DISTINCT` clause is not used in this query, as we are already using `GROUP BY` to remove duplicate rows.\n",
    "\n",
    "> Example by `ChatGPT`"
   ]
  }
 ],
 "metadata": {
  "kernelspec": {
   "display_name": "Python 3",
   "language": "python",
   "name": "python3"
  },
  "language_info": {
   "name": "python",
   "version": "3.11.0"
  },
  "orig_nbformat": 4,
  "vscode": {
   "interpreter": {
    "hash": "aee8b7b246df8f9039afb4144a1f6fd8d2ca17a180786b69acc140d282b71a49"
   }
  }
 },
 "nbformat": 4,
 "nbformat_minor": 2
}
