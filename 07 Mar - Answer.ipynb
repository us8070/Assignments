{
 "cells": [
  {
   "attachments": {},
   "cell_type": "markdown",
   "metadata": {},
   "source": [
    "### Q1. What are the three measures of central tendency?\n",
    "\n",
    "Three measure of central tendency are:\n",
    "1. Mean\n",
    "2. Median\n",
    "3. Mode"
   ]
  },
  {
   "attachments": {},
   "cell_type": "markdown",
   "metadata": {},
   "source": [
    "### Q2. What is the difference between the mean, median, and mode? How are they used to measure the central tendency of a dataset?\n",
    "\n",
    "**Mean:** It is the average of the data and affect due to outliers.\n",
    "\n",
    "**Median:** It is the middle term of the data after arranging them into ascending or descending order and this is not affected of outliers.\n",
    "\n",
    "**Mode:** It is mostly used for categorical features and it is the value which comes most frequent in the data."
   ]
  },
  {
   "attachments": {},
   "cell_type": "markdown",
   "metadata": {},
   "source": [
    "### Q3. Measure the three measures of central tendency for the given height data:  \n",
    "`[178, 177, 176, 177, 178.2, 178, 175, 179, 180, 175, 178.9, 176.2, 177, 172.5, 178, 176.5]`"
   ]
  },
  {
   "cell_type": "code",
   "execution_count": 6,
   "metadata": {},
   "outputs": [],
   "source": [
    "import numpy as np\n",
    "import statistics"
   ]
  },
  {
   "cell_type": "code",
   "execution_count": 7,
   "metadata": {},
   "outputs": [
    {
     "name": "stdout",
     "output_type": "stream",
     "text": [
      "Mean of the data: 177.01875\n",
      "Median of the data: 177.0\n",
      "Mode of the data: 178\n"
     ]
    }
   ],
   "source": [
    "l1 = [178, 177, 176, 177, 178.2, 178, 175, 179,\n",
    "      180, 175, 178.9, 176.2, 177, 172.5, 178, 176.5]\n",
    "\n",
    "print(f'Mean of the data:', np.mean(l1))\n",
    "print(f'Median of the data:', np.median(l1))\n",
    "print(f'Mode of the data:', statistics.mode(l1))"
   ]
  },
  {
   "attachments": {},
   "cell_type": "markdown",
   "metadata": {},
   "source": [
    "### Q4. Find the standard deviation for the given data:  \n",
    "`[178, 177, 176, 177, 178.2, 178, 175, 179, 180, 175, 178.9, 176.2, 177, 172.5, 178, 176.5]`\n"
   ]
  },
  {
   "cell_type": "code",
   "execution_count": 9,
   "metadata": {},
   "outputs": [
    {
     "data": {
      "text/plain": [
       "'Standard Deviation of the data: 1.7885814036548633'"
      ]
     },
     "execution_count": 9,
     "metadata": {},
     "output_type": "execute_result"
    }
   ],
   "source": [
    "f'Standard Deviation of the data: {np.std(l1)}'"
   ]
  },
  {
   "attachments": {},
   "cell_type": "markdown",
   "metadata": {},
   "source": [
    "### Q5. How are measures of dispersion such as range, variance, and standard deviation used to describe the spread of a dataset? Provide an example."
   ]
  },
  {
   "attachments": {},
   "cell_type": "markdown",
   "metadata": {},
   "source": [
    "Measures of dispersion such as range, variance, and standard deviation are used to describe the spread of a dataset by providing information about how far the data points are from the center of the distribution.\n",
    "\n",
    "**Range:** It is the difference between the largest and smallest values in a dataset. It gives an idea about the spread of the data points.\n",
    "\n",
    "**Variance:** It measures how far the data points are from the mean of the distribution. It indicates the variability of the data. A high variance indicates that the data points are spread out over a wider range.\n",
    "\n",
    "**Standard Deviation:** It is the square root of the variance. It is a measure of the average distance of the data points from the mean. It tells how much variation is there in the dataset.\n",
    "\n",
    "**For example**, consider a dataset of the weights of 10 people: 120, 125, 130, 135, 140, 145, 150, 155, 160, 165. The mean weight is 140. The range is 45 (165 - 120). The variance is 400 and the standard deviation is 20. This indicates that the weights are spread out over a range of 45 with a variability of 400 and an average distance of 20 from the mean weight of 140.\n",
    "\n",
    "`--> From Chat-GPT`"
   ]
  },
  {
   "cell_type": "markdown",
   "metadata": {},
   "source": [
    "### Q6. What is a Venn diagram?\n"
   ]
  },
  {
   "attachments": {},
   "cell_type": "markdown",
   "metadata": {},
   "source": [
    "A **Venn diagram** is a visual representation of sets, using circles to show how different sets overlap or don't overlap with each other.  \n",
    "It helps to understand how much two or more groups have in common or how different they are."
   ]
  },
  {
   "attachments": {},
   "cell_type": "markdown",
   "metadata": {},
   "source": [
    "### Q7. For the two given sets \n",
    "\n",
    "```py\n",
    "A = {2,3,4,5,6,7}\n",
    "B = {0,2,6,8,10}\n",
    "```\n",
    "\n",
    "**Find:**\n",
    "1. A ⋂ B\n",
    "2. A ⋃ B"
   ]
  },
  {
   "cell_type": "code",
   "execution_count": 11,
   "metadata": {},
   "outputs": [
    {
     "name": "stdout",
     "output_type": "stream",
     "text": [
      "A ⋂ B = {0, 2, 3, 4, 5, 6, 7, 8, 10}\n",
      "A U B = {2, 6}\n"
     ]
    }
   ],
   "source": [
    "A = {2,3,4,5,6,7}\n",
    "B = {0,2,6,8,10}\n",
    "\n",
    "print(f'A ⋂ B = {A.union(B)}')\n",
    "print(f'A U B = {A.intersection(B)}')"
   ]
  },
  {
   "attachments": {},
   "cell_type": "markdown",
   "metadata": {},
   "source": [
    "### Q8. What do you understand about skewness in data?"
   ]
  },
  {
   "attachments": {},
   "cell_type": "markdown",
   "metadata": {},
   "source": [
    "**Skewness** is a statistical term used to describe the _degree of asymmetry of a dataset_. When a dataset is skewed, it means that the distribution of data is not symmetrical around the average or mean value.  \n",
    "If the skewness is positive, it means the tail of the distribution is longer on the positive side, while a negative skewness indicates a longer tail on the negative side."
   ]
  },
  {
   "attachments": {},
   "cell_type": "markdown",
   "metadata": {},
   "source": [
    "### Q9. If a data is right skewed then what will be the position of median with respect to mean?\n",
    "\n",
    "If a data is right-skewed, the median will be less than the mean."
   ]
  },
  {
   "attachments": {},
   "cell_type": "markdown",
   "metadata": {},
   "source": [
    "### Q10. Explain the difference between covariance and correlation. How are these measures used in statistical analysis?"
   ]
  },
  {
   "attachments": {},
   "cell_type": "markdown",
   "metadata": {},
   "source": [
    "**Covariance** is a statistical measure that _indicates the extent to which two variables tend to change together_.\n",
    "\n",
    "**Correlation** is a standardized measure that _describes the linear relationship between two variables_.\n",
    "\n",
    "> Both measures are used in statistical analysis to understand the relationship between variables."
   ]
  },
  {
   "attachments": {},
   "cell_type": "markdown",
   "metadata": {},
   "source": [
    "### Q11. What is the formula for calculating the sample mean? Provide an example calculation for a dataset.\n",
    "\n",
    "### $$ \\bar{x} = \\sum_{i=1}^n \\frac{x_i}{n-1} $$\n",
    "\n",
    "> Where $\\bar{x}$ is the sample mean, ${x_i}$ is the ith observation in the dataset, and ${n}$ is the number of observations in the dataset."
   ]
  },
  {
   "attachments": {},
   "cell_type": "markdown",
   "metadata": {},
   "source": [
    "**For example,** let's say we have the following dataset:\n",
    "\n",
    "$ \\{3, 5, 7, 11, 13\\} $\n",
    "\n",
    "To calculate the sample mean, we first add up all the observations:\n",
    "\n",
    "$ 3 + 5 + 7 + 11 + 13 = 39 $\n",
    "\n",
    "Then, we divide the sum by the number of observations (in this case, `5`):\n",
    "\n",
    "$\\bar{x} = \\frac{39}{5} = 7.8$\n",
    "\n",
    "So the sample mean of this dataset is `7.8`."
   ]
  },
  {
   "attachments": {},
   "cell_type": "markdown",
   "metadata": {},
   "source": [
    "### Q12. For a normal distribution data what is the relationship between its measure of central tendency?\n",
    "\n",
    "> In a normal distribution, the **mean, median, and mode are all equal**."
   ]
  },
  {
   "attachments": {},
   "cell_type": "markdown",
   "metadata": {},
   "source": [
    "### Q13. How is covariance different from correlation?"
   ]
  },
  {
   "attachments": {},
   "cell_type": "markdown",
   "metadata": {},
   "source": [
    "**Covariance** is a statistical measure that _indicates the extent to which two variables tend to change together_.\n",
    "\n",
    "**Correlation** is a standardized measure that _describes the linear relationship between two variables_.\n",
    "\n",
    "> Both measures are used in statistical analysis to understand the relationship between variables."
   ]
  },
  {
   "attachments": {},
   "cell_type": "markdown",
   "metadata": {},
   "source": [
    "### Q14. How do outliers affect measures of central tendency and dispersion? Provide an example.\n",
    "\n",
    "**Outliers** are extreme values that lie far away from the other values in a dataset. When calculating measures of central tendency like the mean, outliers can significantly affect the value.  \n",
    "**For example,** if a dataset has a few extremely large values, the mean may be much larger than what is representative of the rest of the data.\n",
    "\n",
    "Similarly, outliers can affect measures of dispersion like the range and standard deviation, making them much larger or smaller than what is representative of the majority of the data."
   ]
  },
  {
   "attachments": {},
   "cell_type": "markdown",
   "metadata": {},
   "source": [
    "Let's consider a dataset of 10 test scores: 65, 70, 72, 75, 77, 78, 79, 80, 95, 100. The mean score is 78, which is a good representation of the majority of the data.\n",
    "\n",
    "However, there are two outliers: 95 and 100. The range of the dataset is 35, which is heavily influenced by the outliers.\n",
    "\n",
    "Similarly, the standard deviation is 12.4, which is much larger than what is representative of the majority of the data."
   ]
  }
 ],
 "metadata": {
  "kernelspec": {
   "display_name": "Python 3",
   "language": "python",
   "name": "python3"
  },
  "language_info": {
   "codemirror_mode": {
    "name": "ipython",
    "version": 3
   },
   "file_extension": ".py",
   "mimetype": "text/x-python",
   "name": "python",
   "nbconvert_exporter": "python",
   "pygments_lexer": "ipython3",
   "version": "3.11.0"
  },
  "orig_nbformat": 4
 },
 "nbformat": 4,
 "nbformat_minor": 2
}
